{
  "nbformat": 4,
  "nbformat_minor": 0,
  "metadata": {
    "colab": {
      "name": "M2P2V4_Struktur_Data_String.ipynb",
      "provenance": [],
      "collapsed_sections": []
    },
    "kernelspec": {
      "name": "python3",
      "display_name": "Python 3"
    },
    "language_info": {
      "name": "python"
    }
  },
  "cells": [
    {
      "cell_type": "markdown",
      "metadata": {
        "id": "stEo0kfo1fvk"
      },
      "source": [
        "# String"
      ]
    },
    {
      "cell_type": "markdown",
      "metadata": {
        "id": "KYPLwqAj1juL"
      },
      "source": [
        "string di deklarasikan dengan di apit oleh tanda petik."
      ]
    },
    {
      "cell_type": "code",
      "metadata": {
        "colab": {
          "base_uri": "https://localhost:8080/"
        },
        "id": "KOt7BRCC1U_r",
        "outputId": "c15b3ecc-a12d-474d-9a32-0dc1b6864d5c"
      },
      "source": [
        "#menampilkan string dengan fungsi print()\n",
        "print(\"Hello World!\")"
      ],
      "execution_count": 3,
      "outputs": [
        {
          "output_type": "stream",
          "name": "stdout",
          "text": [
            "Hello World!\n"
          ]
        }
      ]
    },
    {
      "cell_type": "code",
      "metadata": {
        "colab": {
          "base_uri": "https://localhost:8080/"
        },
        "id": "2n_Iri5y140p",
        "outputId": "401dcb95-d515-46fd-c3e0-7e96f6d4232c"
      },
      "source": [
        "#membuat variabel bertipe string\n",
        "A = \"Belajar Struktur data string\"\n",
        "print(A)"
      ],
      "execution_count": 4,
      "outputs": [
        {
          "output_type": "stream",
          "name": "stdout",
          "text": [
            "Belajar Struktur data string\n"
          ]
        }
      ]
    },
    {
      "cell_type": "code",
      "metadata": {
        "colab": {
          "base_uri": "https://localhost:8080/"
        },
        "id": "-BcH6zsj2K4C",
        "outputId": "8d0db0d1-8991-41c3-9a96-a30eb6a5846d"
      },
      "source": [
        "#membuat variabel string multi-line dengan 3 tanda petik\n",
        "B = \"\"\"Belajar python\n",
        "pejuang data 3.0\n",
        "PSDS\n",
        "Sting\"\"\"\n",
        "print(B)"
      ],
      "execution_count": 5,
      "outputs": [
        {
          "output_type": "stream",
          "name": "stdout",
          "text": [
            "Belajar python\n",
            "pejuang data 3.0\n",
            "PSDS\n",
            "Sting\n"
          ]
        }
      ]
    },
    {
      "cell_type": "code",
      "metadata": {
        "colab": {
          "base_uri": "https://localhost:8080/"
        },
        "id": "KaxpeNXH2hx_",
        "outputId": "fe9e6a00-68ae-42f4-a61e-c7c3116a9413"
      },
      "source": [
        "#menampilkan karakter tertentu dalam string\n",
        "print(A[2])"
      ],
      "execution_count": 6,
      "outputs": [
        {
          "output_type": "stream",
          "name": "stdout",
          "text": [
            "l\n"
          ]
        }
      ]
    },
    {
      "cell_type": "code",
      "metadata": {
        "colab": {
          "base_uri": "https://localhost:8080/"
        },
        "id": "9HPRP7Sh2smV",
        "outputId": "6948f2c6-81a0-4d55-9610-f98335528b51"
      },
      "source": [
        "#slicing pada string\n",
        "A = \"Belajar Struktur data string\"\n",
        "print(A[:5])\n",
        "print(A[3:])\n",
        "print(A[-5:])\n",
        "print(A[4:9])"
      ],
      "execution_count": 7,
      "outputs": [
        {
          "output_type": "stream",
          "name": "stdout",
          "text": [
            "Belaj\n",
            "ajar Struktur data string\n",
            "tring\n",
            "jar S\n"
          ]
        }
      ]
    },
    {
      "cell_type": "markdown",
      "metadata": {
        "id": "1FFI3pwg3FtG"
      },
      "source": [
        "# Latihan 1"
      ]
    },
    {
      "cell_type": "code",
      "metadata": {
        "id": "yVBOv9473IY9"
      },
      "source": [
        "#Buatlah variabel string lalu lakukan slicing dengan menghilangkan karakter pertama dan terakhir"
      ],
      "execution_count": null,
      "outputs": []
    },
    {
      "cell_type": "markdown",
      "metadata": {
        "id": "Rfqschi33TqR"
      },
      "source": [
        "# Memodifikasi String"
      ]
    },
    {
      "cell_type": "code",
      "metadata": {
        "colab": {
          "base_uri": "https://localhost:8080/",
          "height": 35
        },
        "id": "yO9ZmcGR3X9A",
        "outputId": "f8006ddd-5d54-4123-9a7e-03c67feb74f3"
      },
      "source": [
        "#upper()\n",
        "A.upper()"
      ],
      "execution_count": 8,
      "outputs": [
        {
          "output_type": "execute_result",
          "data": {
            "application/vnd.google.colaboratory.intrinsic+json": {
              "type": "string"
            },
            "text/plain": [
              "'BELAJAR STRUKTUR DATA STRING'"
            ]
          },
          "metadata": {},
          "execution_count": 8
        }
      ]
    },
    {
      "cell_type": "code",
      "metadata": {
        "colab": {
          "base_uri": "https://localhost:8080/",
          "height": 35
        },
        "id": "sQCtv1qr3fCX",
        "outputId": "dd5c2a64-8037-44ce-ddbb-568a32c912c3"
      },
      "source": [
        "#lower()\n",
        "A.lower()"
      ],
      "execution_count": 9,
      "outputs": [
        {
          "output_type": "execute_result",
          "data": {
            "application/vnd.google.colaboratory.intrinsic+json": {
              "type": "string"
            },
            "text/plain": [
              "'belajar struktur data string'"
            ]
          },
          "metadata": {},
          "execution_count": 9
        }
      ]
    },
    {
      "cell_type": "code",
      "metadata": {
        "colab": {
          "base_uri": "https://localhost:8080/",
          "height": 35
        },
        "id": "iuZ7qpsC3jlb",
        "outputId": "ab03c92a-0865-4e07-adc8-c3c777dd42de"
      },
      "source": [
        "#stip()\n",
        "A.strip()"
      ],
      "execution_count": 10,
      "outputs": [
        {
          "output_type": "execute_result",
          "data": {
            "application/vnd.google.colaboratory.intrinsic+json": {
              "type": "string"
            },
            "text/plain": [
              "'Belajar Struktur data string'"
            ]
          },
          "metadata": {},
          "execution_count": 10
        }
      ]
    },
    {
      "cell_type": "code",
      "metadata": {
        "colab": {
          "base_uri": "https://localhost:8080/",
          "height": 35
        },
        "id": "KItn6fnZ3oMZ",
        "outputId": "cc5438da-a19c-475f-d74f-5b855ecc3208"
      },
      "source": [
        "#replace()\n",
        "A.replace('1', 'd')"
      ],
      "execution_count": 11,
      "outputs": [
        {
          "output_type": "execute_result",
          "data": {
            "application/vnd.google.colaboratory.intrinsic+json": {
              "type": "string"
            },
            "text/plain": [
              "'Belajar Struktur data string'"
            ]
          },
          "metadata": {},
          "execution_count": 11
        }
      ]
    },
    {
      "cell_type": "code",
      "metadata": {
        "colab": {
          "base_uri": "https://localhost:8080/"
        },
        "id": "mE76Wyg_4I8t",
        "outputId": "8d9b8b6b-0bcc-4213-84dc-4307c75529bc"
      },
      "source": [
        "#split()\n",
        "A.split()"
      ],
      "execution_count": 12,
      "outputs": [
        {
          "output_type": "execute_result",
          "data": {
            "text/plain": [
              "['Belajar', 'Struktur', 'data', 'string']"
            ]
          },
          "metadata": {},
          "execution_count": 12
        }
      ]
    },
    {
      "cell_type": "markdown",
      "metadata": {
        "id": "yBRoSz874UCe"
      },
      "source": [
        "# Menggabungkan String"
      ]
    },
    {
      "cell_type": "code",
      "metadata": {
        "colab": {
          "base_uri": "https://localhost:8080/",
          "height": 35
        },
        "id": "HWeOXHTZ4dvA",
        "outputId": "31bd4217-c7c9-43a2-fcda-c19c92d10e39"
      },
      "source": [
        "A = \"Belajar Struktur data string\"\n",
        "B = \"Pejuang Data 3.0\"\n",
        "A + \" \" + B"
      ],
      "execution_count": null,
      "outputs": [
        {
          "output_type": "execute_result",
          "data": {
            "application/vnd.google.colaboratory.intrinsic+json": {
              "type": "string"
            },
            "text/plain": [
              "'Belajar Struktur data string Pejuang Data 3.0'"
            ]
          },
          "metadata": {},
          "execution_count": 13
        }
      ]
    },
    {
      "cell_type": "markdown",
      "metadata": {
        "id": "7xvd1L7Y4vPs"
      },
      "source": [
        "# Latihan 2"
      ]
    },
    {
      "cell_type": "code",
      "metadata": {
        "id": "-b9yUnrk4yno"
      },
      "source": [
        "#Ganti semua huruf vokal menjadi \"i\" pada string yang telah kalian buat pada latihan 1"
      ],
      "execution_count": null,
      "outputs": []
    }
  ]
}