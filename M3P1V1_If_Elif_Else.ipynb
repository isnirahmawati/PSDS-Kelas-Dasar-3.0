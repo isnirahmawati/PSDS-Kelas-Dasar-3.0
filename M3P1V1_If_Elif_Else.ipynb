{
  "nbformat": 4,
  "nbformat_minor": 0,
  "metadata": {
    "colab": {
      "name": "M3P1V1_If_Elif_Else.ipynb",
      "provenance": [],
      "collapsed_sections": []
    },
    "kernelspec": {
      "name": "python3",
      "display_name": "Python 3"
    },
    "language_info": {
      "name": "python"
    }
  },
  "cells": [
    {
      "cell_type": "markdown",
      "metadata": {
        "id": "y4daJ7Pc8MaZ"
      },
      "source": [
        "# Percabangan/ Struktur Pemilihan"
      ]
    },
    {
      "cell_type": "markdown",
      "metadata": {
        "id": "_Tk-tYSE8XBx"
      },
      "source": [
        "Pada bagian ini, kamu akan memuat keputusan pada bahasa pemrograman Python menggunkan struktur percabangan atau juga sering disebut IF ELSE Statement. Pengambilan keputusan dibutuhkan ketika kamu akan mengeksekusi suatu kode jika sebuah kondisi tertentu dipenuhi."
      ]
    },
    {
      "cell_type": "markdown",
      "metadata": {
        "id": "2LG2WWUj87_1"
      },
      "source": [
        "Statement `if .. elif ... else` digunakan pada bahasa python untuk pengambilan keputusan."
      ]
    },
    {
      "cell_type": "markdown",
      "metadata": {
        "id": "nai3GTPJ9Nny"
      },
      "source": [
        "# IF Statments"
      ]
    },
    {
      "cell_type": "markdown",
      "metadata": {
        "id": "8YpeqMuQ9RlW"
      },
      "source": [
        "Python IF Statment syntax"
      ]
    },
    {
      "cell_type": "code",
      "metadata": {
        "id": "f3itL-lv9VHp"
      },
      "source": [
        "if test expression :\n",
        "  statement(s)"
      ],
      "execution_count": null,
      "outputs": []
    },
    {
      "cell_type": "markdown",
      "metadata": {
        "id": "lgn_pZzQ-FUm"
      },
      "source": [
        "**example : python IF statement**"
      ]
    },
    {
      "cell_type": "code",
      "metadata": {
        "id": "_RBJxi6E-Oj1"
      },
      "source": [
        "#Jika angka adalah bilangan positif maka print \"adalah bilangan positif\"\n",
        "angka = 3\n",
        "if angka > 0:\n",
        "  print(angka, \"adalah bilsngsn positif.\")\n",
        "print(\"Pernyataan ini selalu ditampilkan.\")\n",
        "\n",
        "angka =-1\n",
        "if angka > 0:\n",
        "  print(angka, \"adalah bilangan positif.\")\n",
        "print(\"pernyataan ini juga selalu ditampilkan\")"
      ],
      "execution_count": null,
      "outputs": []
    },
    {
      "cell_type": "markdown",
      "metadata": {
        "id": "nkqnPA4G_fKH"
      },
      "source": [
        "# IF ELSE Statements"
      ]
    },
    {
      "cell_type": "markdown",
      "metadata": {
        "id": "GmzDp0tH_tKb"
      },
      "source": [
        "python IF ELSE Statement syntax"
      ]
    },
    {
      "cell_type": "code",
      "metadata": {
        "id": "8oFQ6UjF__OR"
      },
      "source": [
        "if test expression:\n",
        "  Body of if\n",
        "else : \n",
        "  Body of else"
      ],
      "execution_count": null,
      "outputs": []
    },
    {
      "cell_type": "markdown",
      "metadata": {
        "id": "Tbvhjwh7ASLr"
      },
      "source": [
        "**example: Python IF ELSE Statement**"
      ]
    },
    {
      "cell_type": "code",
      "metadata": {
        "colab": {
          "base_uri": "https://localhost:8080/"
        },
        "id": "l5ftn6tjAcUM",
        "outputId": "2666cc4d-95a6-4d27-fcd7-342b7aa090a6"
      },
      "source": [
        "#Program disusun untuk mengecek apakah angka tersebut kurang dari 0 atau tidak\n",
        "#dan menampilkan tulisan yang sesuai\n",
        "\n",
        "angka = 3\n",
        "if angka >= 0:\n",
        "  print(\"Bilangan lebih dari atau samadengan 0\")\n",
        "else:\n",
        "  print(\"Bilangan kurang dari 0\")"
      ],
      "execution_count": null,
      "outputs": [
        {
          "output_type": "stream",
          "name": "stdout",
          "text": [
            "Bilangan lebih dari atau samadengan 0\n"
          ]
        }
      ]
    },
    {
      "cell_type": "code",
      "metadata": {
        "colab": {
          "base_uri": "https://localhost:8080/"
        },
        "id": "6Qt9p6bDA7Yb",
        "outputId": "7baf3257-9a44-47d1-f0ed-23cdfb2d77b8"
      },
      "source": [
        "#Program disusun untuk mengecek apakah dua buah angka sama atau tidak \n",
        "#dan menampilkan tulisan yang sesuai\n",
        "\n",
        "a = 5\n",
        "b = 5\n",
        "if a==b:\n",
        "  print(\" a dan b bernilai sama\")\n",
        "else:\n",
        "  print(\"a dan b bernilai berbeda\")\n",
        "  print(\"Belajar If Else\")"
      ],
      "execution_count": null,
      "outputs": [
        {
          "output_type": "stream",
          "name": "stdout",
          "text": [
            " a dan b bernilai sama\n"
          ]
        }
      ]
    },
    {
      "cell_type": "code",
      "metadata": {
        "colab": {
          "base_uri": "https://localhost:8080/"
        },
        "id": "rbdoU4WiBdEt",
        "outputId": "e0f48764-906c-4e04-a684-2b3a7b5002c3"
      },
      "source": [
        "#Program disusun untuk mengecek apakah perbandingan dua buah angka \n",
        "#dan menampilkan tulisan yang sesuai\n",
        "\n",
        "#membaca dua angka\n",
        "bil1 = int(input(\"Masukkan bilangan pertamana: \"))\n",
        "bil2 = int(input(\"Masukkan bilangan kedua: \"))\n",
        "\n",
        "#memilih bilangan yang lebih besar\n",
        "if bil1 > bil2:\n",
        "  bil1_lebih_besar = bil1\n",
        "else:\n",
        "  bil1_lebih_besar = bil2\n",
        "\n",
        "#menampilkan hasil\n",
        "print(\"Bilangan yang lebih besar adalah:\", bil1_lebih_besar)"
      ],
      "execution_count": null,
      "outputs": [
        {
          "output_type": "stream",
          "name": "stdout",
          "text": [
            "Masukkan bilangan pertamana: 3\n",
            "Masukkan bilangan kedua: 5\n",
            "Bilangan yang lebih besar adalah: 5\n"
          ]
        }
      ]
    },
    {
      "cell_type": "markdown",
      "metadata": {
        "id": "oQXflCEMCbD_"
      },
      "source": [
        "# IF ELIF ELSE Statement"
      ]
    },
    {
      "cell_type": "markdown",
      "metadata": {
        "id": "DJ6ZFkIKCe37"
      },
      "source": [
        "Python IF ELIF ELSE Statement syntax"
      ]
    },
    {
      "cell_type": "code",
      "metadata": {
        "id": "RGqHOuhuCm5I"
      },
      "source": [
        "if test expression:\n",
        "  Body of if\n",
        "elif test expression:\n",
        "  Body of elif\n",
        "else : \n",
        "  Body of else"
      ],
      "execution_count": null,
      "outputs": []
    },
    {
      "cell_type": "markdown",
      "metadata": {
        "id": "v1YepdohC7uG"
      },
      "source": [
        "**example: Python IF ELIF ELSE Statement**"
      ]
    },
    {
      "cell_type": "code",
      "metadata": {
        "colab": {
          "base_uri": "https://localhost:8080/"
        },
        "id": "7hHiRVGsDE4H",
        "outputId": "4d50769d-51e9-4d82-c728-b5c63ea61d25"
      },
      "source": [
        "#Program disusun untuk mengecek apakah angka merupakan bilangan positif, negatif atau nol\n",
        "#dan menampilkan tulisan yang sesuai\n",
        "\n",
        "angka = 3.4\n",
        "if angka > 0:\n",
        "  print(\"Bilangan Positif\")\n",
        "elif num == 0:\n",
        "  print(\"Nol\")\n",
        "else :\n",
        "  print(\"Bilangan Negatif\")"
      ],
      "execution_count": null,
      "outputs": [
        {
          "output_type": "stream",
          "name": "stdout",
          "text": [
            "Bilangan Positif\n"
          ]
        }
      ]
    },
    {
      "cell_type": "code",
      "metadata": {
        "colab": {
          "base_uri": "https://localhost:8080/"
        },
        "id": "VojDlaSYDnGR",
        "outputId": "629cb356-5721-4a5d-a623-b882523f2b12"
      },
      "source": [
        "#statement if\n",
        "x = 4\n",
        "if x % 2 == 0: #jika x dibagi 2 sisanya samadengan 0\n",
        "    print(\"x habis dibagi dua\")\n",
        "\n",
        "#Statement if...elif...else\n",
        "x = 7\n",
        "if x % 2 == 0: #jika x dibagi 2 sisanya samadengan 0\n",
        "    print(\"x habis dibagi dua\")\n",
        "elif x % 3 == 0: #jika x habis diabgi 3 sisanya samadengan 0\n",
        "    print(\"x habis dibagi tiga\")\n",
        "elif x % 5 == 0: #jika x habis dibagi 5 sisanya samadengan 0\n",
        "    print(\"x habis dibagi lima\")\n",
        "else :\n",
        "  print(\"x tidak habis dibagi dua, tiga ataupun lima\")"
      ],
      "execution_count": null,
      "outputs": [
        {
          "output_type": "stream",
          "name": "stdout",
          "text": [
            "x habis dibagi dua\n",
            "x tidak habis dibagi dua, tiga ataupun lima\n"
          ]
        }
      ]
    },
    {
      "cell_type": "markdown",
      "metadata": {
        "id": "tWqobootE8Ay"
      },
      "source": [
        "# Python Nested IF Statement"
      ]
    },
    {
      "cell_type": "markdown",
      "metadata": {
        "id": "niJ4CyhqE_eY"
      },
      "source": [
        "**example : Python NESTED IF Statement**"
      ]
    },
    {
      "cell_type": "code",
      "metadata": {
        "id": "e_JcEI-XFGrQ",
        "colab": {
          "base_uri": "https://localhost:8080/"
        },
        "outputId": "dea53e43-e1fa-4d3f-e658-01892610ecb4"
      },
      "source": [
        "#Program disusun untuk mengecek apakah angka merupakan bilangan positif, negatif atau nol\n",
        "#dan menampilkan tulisan yang sesuai\n",
        "\n",
        "angka = float(input(\"Masukkan angka: \"))\n",
        "if angka >= 0:\n",
        "  if angka == 0:\n",
        "    print(\"Nol\")\n",
        "  else: \n",
        "    print(\"Bilangan Positif\")\n",
        "else:\n",
        "  print(\"Bilangan Negatif\")"
      ],
      "execution_count": null,
      "outputs": [
        {
          "output_type": "stream",
          "name": "stdout",
          "text": [
            "Masukkan angka: 4\n",
            "Bilangan Positif\n"
          ]
        }
      ]
    }
  ]
}