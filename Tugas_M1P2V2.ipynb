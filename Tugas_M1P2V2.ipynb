{
  "nbformat": 4,
  "nbformat_minor": 0,
  "metadata": {
    "colab": {
      "name": "Tugas M1P2V2.ipynb",
      "provenance": []
    },
    "kernelspec": {
      "name": "python3",
      "display_name": "Python 3"
    },
    "language_info": {
      "name": "python"
    }
  },
  "cells": [
    {
      "cell_type": "markdown",
      "metadata": {
        "id": "5CBCMHGXe5Se"
      },
      "source": [
        "Latihan 1"
      ]
    },
    {
      "cell_type": "code",
      "metadata": {
        "id": "F0AAg6_fe7KA"
      },
      "source": [
        "kalimat = 'hari ini tidak hujan'\n",
        "bil1 = 7\n",
        "bil2 = 6.3\n",
        "bil3 = False\n",
        "bil4 = 8j + 5"
      ],
      "execution_count": 4,
      "outputs": []
    },
    {
      "cell_type": "code",
      "metadata": {
        "colab": {
          "base_uri": "https://localhost:8080/"
        },
        "id": "9_MmRzS7fXmk",
        "outputId": "fc13e0ff-1970-4002-e4f4-eee7c8dd4c45"
      },
      "source": [
        "print(kalimat)\n",
        "print(bil1)\n",
        "print(bil2)"
      ],
      "execution_count": 5,
      "outputs": [
        {
          "output_type": "stream",
          "name": "stdout",
          "text": [
            "hari ini tidak hujan\n",
            "7\n",
            "6.3\n"
          ]
        }
      ]
    },
    {
      "cell_type": "markdown",
      "metadata": {
        "id": "GsCRI2K4fqRN"
      },
      "source": [
        "Latihan 2"
      ]
    },
    {
      "cell_type": "code",
      "metadata": {
        "colab": {
          "base_uri": "https://localhost:8080/"
        },
        "id": "hnnIxugffrco",
        "outputId": "00a9fc4c-ea5a-497a-98ac-d95250d03982"
      },
      "source": [
        "print(type(kalimat))\n",
        "print(type(bil1))\n",
        "print(type(bil2))\n",
        "print(type(bil3))\n",
        "print(type(bil4))"
      ],
      "execution_count": 6,
      "outputs": [
        {
          "output_type": "stream",
          "name": "stdout",
          "text": [
            "<class 'str'>\n",
            "<class 'int'>\n",
            "<class 'float'>\n",
            "<class 'bool'>\n",
            "<class 'complex'>\n"
          ]
        }
      ]
    },
    {
      "cell_type": "markdown",
      "metadata": {
        "id": "cd-ymMsVgHYe"
      },
      "source": [
        "Latihan 3"
      ]
    },
    {
      "cell_type": "code",
      "metadata": {
        "colab": {
          "base_uri": "https://localhost:8080/"
        },
        "id": "6f5rLDE6gJWh",
        "outputId": "79586b00-31e2-40f1-d8b5-97351ece6adb"
      },
      "source": [
        "#integer\n",
        "print(int(bil2))\n",
        "print(int(bil3))\n",
        "print('-'*20)\n",
        "#float\n",
        "print(float(bil1))\n",
        "print(float(bil3))\n",
        "print('-'*20)\n",
        "#string\n",
        "print(str(bil1))\n",
        "print(str(bil2))\n",
        "print(str(bil3))\n",
        "print('-'*20)\n",
        "#bool\n",
        "print(bool(bil1))\n",
        "print(bool(bil2))\n",
        "print('-'*20)\n",
        "#complex\n",
        "print(complex(bil1))\n",
        "print(complex(bil2))\n",
        "print(complex(bil3))"
      ],
      "execution_count": 9,
      "outputs": [
        {
          "output_type": "stream",
          "name": "stdout",
          "text": [
            "6\n",
            "0\n",
            "--------------------\n",
            "7.0\n",
            "0.0\n",
            "--------------------\n",
            "7\n",
            "6.3\n",
            "False\n",
            "--------------------\n",
            "True\n",
            "True\n",
            "--------------------\n",
            "(7+0j)\n",
            "(6.3+0j)\n",
            "0j\n"
          ]
        }
      ]
    }
  ]
}