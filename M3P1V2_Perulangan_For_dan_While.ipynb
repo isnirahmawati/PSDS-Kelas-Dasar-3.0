{
  "nbformat": 4,
  "nbformat_minor": 0,
  "metadata": {
    "colab": {
      "name": "M3P1V2_Perulangan_For_dan_While.ipynb",
      "provenance": []
    },
    "kernelspec": {
      "name": "python3",
      "display_name": "Python 3"
    },
    "language_info": {
      "name": "python"
    }
  },
  "cells": [
    {
      "cell_type": "markdown",
      "metadata": {
        "id": "Hi71KkPmLLuq"
      },
      "source": [
        "# Looping/Perulangan"
      ]
    },
    {
      "cell_type": "markdown",
      "metadata": {
        "id": "Ir7VN-GiLNs8"
      },
      "source": [
        "Python menyediakan dua statement untuk melakukan proses perulangan yaitu for dan while. Diantara kedua statement ini, secara umum for lebih banyak digunakan daripada while."
      ]
    },
    {
      "cell_type": "markdown",
      "metadata": {
        "id": "Aw5NlD9XLSdO"
      },
      "source": [
        "# For Loop"
      ]
    },
    {
      "cell_type": "markdown",
      "metadata": {
        "id": "ZGAQ8Yq_LsWo"
      },
      "source": [
        "Perulangan `for` digunakan untuk melakukan iterasi di dalam `sequence` seperti `list,tuple,string dan array` atau objek yang dapat diiterasi lainnya."
      ]
    },
    {
      "cell_type": "markdown",
      "metadata": {
        "id": "8vx_GgmUMXR_"
      },
      "source": [
        "For Loop Syntax"
      ]
    },
    {
      "cell_type": "code",
      "metadata": {
        "id": "2TfoQ151Makt"
      },
      "source": [
        "for val in sequence:\n",
        "  loop body"
      ],
      "execution_count": null,
      "outputs": []
    },
    {
      "cell_type": "markdown",
      "metadata": {
        "id": "NZYRO9awMihi"
      },
      "source": [
        "**Example: Python for Loop**"
      ]
    },
    {
      "cell_type": "code",
      "metadata": {
        "colab": {
          "base_uri": "https://localhost:8080/"
        },
        "id": "JtN_HblYMn_D",
        "outputId": "025b8a56-a803-42c3-ea91-438abeab6d7c"
      },
      "source": [
        "#program untuk mennghitung jumlah semua angka dalam sebuah list\n",
        "L1 = [2, 4, 5, 7, 9]\n",
        "jumlah = 0\n",
        "\n",
        "#iterasi di dalam list\n",
        "for i in L1:\n",
        "  jumlah = jumlah + i\n",
        "\n",
        "print(jumlah)"
      ],
      "execution_count": 1,
      "outputs": [
        {
          "output_type": "stream",
          "name": "stdout",
          "text": [
            "27\n"
          ]
        }
      ]
    },
    {
      "cell_type": "markdown",
      "metadata": {
        "id": "66tliXPQM-ZQ"
      },
      "source": [
        "# The range() function"
      ]
    },
    {
      "cell_type": "code",
      "metadata": {
        "colab": {
          "base_uri": "https://localhost:8080/"
        },
        "id": "k5o3Lp9_NDxD",
        "outputId": "05802907-4c96-4b7a-e7b2-7f4625e8e793"
      },
      "source": [
        "#program untuk melakukan iterasi di dalam list melalui indeks\n",
        "minimum = [\"teh\",\"boba\",\"kopi\",\"susu\"]\n",
        "p = len(minimum)\n",
        "\n",
        "#iterasi di dalam list melalui indeks\n",
        "for i in range(p):\n",
        "  print(minimum[i])"
      ],
      "execution_count": 2,
      "outputs": [
        {
          "output_type": "stream",
          "name": "stdout",
          "text": [
            "teh\n",
            "boba\n",
            "kopi\n",
            "susu\n"
          ]
        }
      ]
    },
    {
      "cell_type": "markdown",
      "metadata": {
        "id": "IV6gJhbUNkhe"
      },
      "source": [
        "# for loop with else"
      ]
    },
    {
      "cell_type": "code",
      "metadata": {
        "colab": {
          "base_uri": "https://localhost:8080/"
        },
        "id": "4VUmA_-1NoVy",
        "outputId": "58595223-cddb-462e-c129-88b8fc8ee693"
      },
      "source": [
        "#contoh for loop menggunakan else\n",
        "for i in range(p):\n",
        "  print(minimum[i])\n",
        "else:\n",
        "  print(\"Elemen sudah abis\")"
      ],
      "execution_count": 3,
      "outputs": [
        {
          "output_type": "stream",
          "name": "stdout",
          "text": [
            "teh\n",
            "boba\n",
            "kopi\n",
            "susu\n",
            "Elemen sudah abis\n"
          ]
        }
      ]
    },
    {
      "cell_type": "markdown",
      "metadata": {
        "id": "aDSOPFXsN7im"
      },
      "source": [
        "# While Loop"
      ]
    },
    {
      "cell_type": "markdown",
      "metadata": {
        "id": "bMjuNn_TOAm8"
      },
      "source": [
        "while looping pada python digunakan untuk melakukan iterasi pada blok kode selama nilai dari `test expression` adalah `true`."
      ]
    },
    {
      "cell_type": "markdown",
      "metadata": {
        "id": "zxgb-7_kOX_t"
      },
      "source": [
        "**Syntax of While Loop in Python**"
      ]
    },
    {
      "cell_type": "code",
      "metadata": {
        "id": "CaLxO59wOepB"
      },
      "source": [
        "while test_expression:\n",
        "  Body of while"
      ],
      "execution_count": null,
      "outputs": []
    },
    {
      "cell_type": "markdown",
      "metadata": {
        "id": "C02WerEfOkL_"
      },
      "source": [
        "**Example: Python While Loop**"
      ]
    },
    {
      "cell_type": "code",
      "metadata": {
        "colab": {
          "base_uri": "https://localhost:8080/"
        },
        "id": "rvE53mhtOrUi",
        "outputId": "2bc5d3bb-d220-4a3f-d993-c293dcb6c992"
      },
      "source": [
        "#program untuk menjumlahkan semua\n",
        "#bilangan asli hingga suku ke-n\n",
        "#jum = 1+2+3+...+n\n",
        "\n",
        "n = 10\n",
        "jumlah = 0\n",
        "i = 1\n",
        "\n",
        "while i <= n:\n",
        "  jumlah = jumlah + i\n",
        "  i = i + 1\n",
        "\n",
        "print(jumlah)"
      ],
      "execution_count": 4,
      "outputs": [
        {
          "output_type": "stream",
          "name": "stdout",
          "text": [
            "55\n"
          ]
        }
      ]
    },
    {
      "cell_type": "markdown",
      "metadata": {
        "id": "rGESiOgFPIAU"
      },
      "source": [
        "# While Loop with else"
      ]
    },
    {
      "cell_type": "markdown",
      "metadata": {
        "id": "xMH8EA3JPMaG"
      },
      "source": [
        "Sama dengan `for` loop kita juga dapat mengkombinasikan `while` dengan blok `else`."
      ]
    },
    {
      "cell_type": "markdown",
      "metadata": {
        "id": "0NCm2zWvPahg"
      },
      "source": [
        "Bagian `else` akan dieksekusi jika nilai pada `test expression` pada `while loop` bernilai `false`. Perhatikan contoh berikut:"
      ]
    },
    {
      "cell_type": "code",
      "metadata": {
        "id": "eZLttYAdP78T"
      },
      "source": [
        "jum = 0\n",
        "i = 1\n",
        "while i <= n:\n",
        "  jum = jum + i\n",
        "  i = i + 1\n",
        "else:\n",
        "  print(jum) #dieksekusi diluar looping"
      ],
      "execution_count": null,
      "outputs": []
    }
  ]
}