{
  "nbformat": 4,
  "nbformat_minor": 0,
  "metadata": {
    "colab": {
      "name": "M3P2V1_Function.ipynb",
      "provenance": []
    },
    "kernelspec": {
      "name": "python3",
      "display_name": "Python 3"
    },
    "language_info": {
      "name": "python"
    }
  },
  "cells": [
    {
      "cell_type": "markdown",
      "metadata": {
        "id": "O3bo_DjkGGR1"
      },
      "source": [
        "# Function"
      ]
    },
    {
      "cell_type": "markdown",
      "metadata": {
        "id": "bBuVlw6RGH_f"
      },
      "source": [
        "Function(Fungsi) adalah sebuah blok statemen yang hanya akan dijalankan saat ia dipanggil."
      ]
    },
    {
      "cell_type": "markdown",
      "metadata": {
        "id": "-Zmmno0yGim1"
      },
      "source": [
        "Fungsi len() untuk mengukur jumlah elemen dalam sebuah list dan fungsi print() untuk menampilkan pesan pada layar konsol merupakan contoh dari bentuk fungsi yang telah disediakan oleh bahasa pemrograman Python atau dengan kata lain built-in functions."
      ]
    },
    {
      "cell_type": "markdown",
      "metadata": {
        "id": "R44-BAApGlVv"
      },
      "source": [
        "Selain fungsi yang telah disediakan oleh Python, Python mengizinkan untuk mendeklarasikan fungsi dalam kode yang dituliskan yang dikenal dengan user defined function.\n",
        "```\n",
        "def nama_fungsi(argument):\n",
        "    statement_1\n",
        "    …\n",
        "    statement_n\n",
        "    return returned_value\n",
        "```\n",
        "\n"
      ]
    },
    {
      "cell_type": "markdown",
      "metadata": {
        "id": "Qz9UaJAFG5O3"
      },
      "source": [
        "\n",
        "\n",
        "*   **nama_fungsi** adalah nama untuk fungsi yang Anda definisikan, memiliki aturan seperti penamaan variabel\n",
        "*   **argument** adalah variabel masukan ke fungsi, bisa tanpa variabel, satu variabel atau lebih\n",
        "*   **statement_1** … statement_n adalah algoritma yang telah Anda transfer dalam bahasa Python yang merupakan inti dari fungsi yang Anda definisikan. Seluruh statement adalah menjorok (indent) ke dalam seperti yang pernah Anda pelajari pada conditioning dan looping\n",
        "*   **return_value** adalah variabel output dari fungsi Anda, bisa tanpa variabel, satu variabel atau lebih.\n",
        "\n",
        "\n",
        "\n"
      ]
    },
    {
      "cell_type": "markdown",
      "metadata": {
        "id": "O2iaQDYTHe8c"
      },
      "source": [
        "# Argumen dan Parameter"
      ]
    },
    {
      "cell_type": "markdown",
      "metadata": {
        "id": "4bGN-Ez0HimY"
      },
      "source": [
        "*   **Parameter** adalah variabel yang digunakan dalam deklarasi fungsi\n",
        "*   **Argumen** adalah nilai yang diberikan saat pemanggilan fungsi."
      ]
    },
    {
      "cell_type": "code",
      "metadata": {
        "colab": {
          "base_uri": "https://localhost:8080/"
        },
        "id": "yIJaWFAKHyqw",
        "outputId": "c47758eb-4c0e-48ac-96ec-a330ec77c3f1"
      },
      "source": [
        "def print_nama(nama):   # 'nama' adalah parameter\n",
        "    print(nama)\n",
        "\n",
        "print_nama('Budi') # 'Budi' adalah argumen"
      ],
      "execution_count": 1,
      "outputs": [
        {
          "output_type": "stream",
          "name": "stdout",
          "text": [
            "Budi\n"
          ]
        }
      ]
    },
    {
      "cell_type": "markdown",
      "metadata": {
        "id": "OqBAVkigIC6L"
      },
      "source": [
        "# Argumen posisi dan kata kunci"
      ]
    },
    {
      "cell_type": "markdown",
      "metadata": {
        "id": "8xk-LWhTIFoE"
      },
      "source": [
        "Kita bisa menyatakan argumen sebagai argumen posisi atau kata kunci. Beberapa manfaat argumen kata kunci dapat berupa: \n",
        "*   Kita dapat menyebut argumen dengan nama mereka untuk memperjelas apa yang mereka wakili\n",
        "*   Kita dapat mengatur ulang argumen dengan cara yang membuatnya paling mudah dibaca"
      ]
    },
    {
      "cell_type": "code",
      "metadata": {
        "colab": {
          "base_uri": "https://localhost:8080/"
        },
        "id": "B9KfxS6yIxhW",
        "outputId": "7e02debf-e3e8-43ef-94c9-87b144beff4d"
      },
      "source": [
        "def angka(a, b, c):\n",
        "    print(a, b, c)\n",
        "    \n",
        "# argumen posisi\n",
        "# argumen berdasarkan posisinya\n",
        "angka(1, 2, 3)\n",
        "\n",
        "# argumen berdasarkan kata kuncinya\n",
        "angka(a=1, b=2, c=3)\n",
        "angka(c=3, b=2, a=1) \n",
        "# Catatan: jika sudah diberi kunci maka urutan tidak menjadi penting\n",
        "\n",
        "# campuran antara argumen posisi dan argumen kata kunci\n",
        "angka(1, b=2, c=3)\n",
        "\n",
        "# Ini tidak diijinkan:\n",
        "# angka(1, b=2, 3) # argumen posisional setelah argumen kunci \n",
        "# angka(1, b=2, a=3) # terdapat dua nilai untuk argumen kunci 'a'"
      ],
      "execution_count": 2,
      "outputs": [
        {
          "output_type": "stream",
          "name": "stdout",
          "text": [
            "1 2 3\n",
            "1 2 3\n",
            "1 2 3\n",
            "1 2 3\n"
          ]
        }
      ]
    },
    {
      "cell_type": "markdown",
      "metadata": {
        "id": "YU17vRIKJC_-"
      },
      "source": [
        "# Argumen Default"
      ]
    },
    {
      "cell_type": "markdown",
      "metadata": {
        "id": "aht5Wl9QJHVf"
      },
      "source": [
        "Fungsi dapat memiliki argumen default dengan nilai yang telah ditentukan sebelumnya. Argumen ini dapat ditinggalkan dan nilai default kemudian diteruskan ke fungsi, atau argumen dapat dirubah dengan nilai yang berbeda. Perhatikan bahwa argumen default harus ditentukan sebagai **parameter terakhir** dalam suatu fungsi."
      ]
    },
    {
      "cell_type": "code",
      "metadata": {
        "colab": {
          "base_uri": "https://localhost:8080/"
        },
        "id": "oaJ0eNihJOtT",
        "outputId": "35db12ea-19a1-4869-f4e4-b0143cd2480f"
      },
      "source": [
        "# Argumen default\n",
        "def angka(a, b, c, d=4):\n",
        "    print(a, b, c, d)\n",
        "\n",
        "angka(1, 2, 3, 4)\n",
        "angka(1, b=2, c=3, d=100)\n",
        "\n",
        "# Argumen default harus diletakkan terakhir"
      ],
      "execution_count": 3,
      "outputs": [
        {
          "output_type": "stream",
          "name": "stdout",
          "text": [
            "1 2 3 4\n",
            "1 2 3 100\n"
          ]
        }
      ]
    },
    {
      "cell_type": "markdown",
      "metadata": {
        "id": "EkZuvtkJJjp3"
      },
      "source": [
        "# Praktik Membuat Fungsi"
      ]
    },
    {
      "cell_type": "code",
      "metadata": {
        "colab": {
          "base_uri": "https://localhost:8080/"
        },
        "id": "uJzg1tiMJizD",
        "outputId": "ebd27e7b-b666-4975-d684-288049858bc6"
      },
      "source": [
        "x = 1\n",
        "y = 2\n",
        "x*y"
      ],
      "execution_count": 4,
      "outputs": [
        {
          "output_type": "execute_result",
          "data": {
            "text/plain": [
              "2"
            ]
          },
          "metadata": {},
          "execution_count": 4
        }
      ]
    },
    {
      "cell_type": "code",
      "metadata": {
        "colab": {
          "base_uri": "https://localhost:8080/"
        },
        "id": "PqYaMFmRJzlM",
        "outputId": "8070839e-2f1e-4b21-95ea-317a965907c7"
      },
      "source": [
        "def penjumlahan(x, y): #input\n",
        "  a=x+y                #proses\n",
        "  return a             #output\n",
        "\n",
        "penjumlahan(1, 2)      #menggunakan fungsi"
      ],
      "execution_count": 5,
      "outputs": [
        {
          "output_type": "execute_result",
          "data": {
            "text/plain": [
              "3"
            ]
          },
          "metadata": {},
          "execution_count": 5
        }
      ]
    },
    {
      "cell_type": "markdown",
      "metadata": {
        "id": "Kg01NTtSJ4e7"
      },
      "source": [
        "penjumlahan yang memungkinkan untuk tiga bilangan"
      ]
    },
    {
      "cell_type": "code",
      "metadata": {
        "colab": {
          "base_uri": "https://localhost:8080/"
        },
        "id": "AyKiJ1kUJ2o5",
        "outputId": "eff5cf33-5d7f-4852-eaba-d356ddc9c5cf"
      },
      "source": [
        "def penjumlahan(x,y,z=None):\n",
        "    if (z==None):\n",
        "        return x+y\n",
        "    else:\n",
        "        return x+y+z\n",
        "\n",
        "print(penjumlahan(1, 2))\n",
        "print(penjumlahan(1, 2, 3))"
      ],
      "execution_count": 6,
      "outputs": [
        {
          "output_type": "stream",
          "name": "stdout",
          "text": [
            "3\n",
            "6\n"
          ]
        }
      ]
    },
    {
      "cell_type": "markdown",
      "metadata": {
        "id": "FNrLtZPdKGLZ"
      },
      "source": [
        "menyiapkan hasil fungsi dalam variabel"
      ]
    },
    {
      "cell_type": "code",
      "metadata": {
        "colab": {
          "base_uri": "https://localhost:8080/"
        },
        "id": "GEJQhIyaKJUB",
        "outputId": "3ed6fa16-0fe8-4fd4-b673-7cc1f5e47d4d"
      },
      "source": [
        "def penjumlahan(x,y):\n",
        "    return x+y\n",
        "\n",
        "a = penjumlahan\n",
        "a(1,2)"
      ],
      "execution_count": 7,
      "outputs": [
        {
          "output_type": "execute_result",
          "data": {
            "text/plain": [
              "3"
            ]
          },
          "metadata": {},
          "execution_count": 7
        }
      ]
    }
  ]
}