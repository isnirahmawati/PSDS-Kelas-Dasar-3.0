{
  "nbformat": 4,
  "nbformat_minor": 0,
  "metadata": {
    "colab": {
      "name": "M4P1V2_Pengenalan_Pandas_DataFrame.ipynb",
      "provenance": []
    },
    "kernelspec": {
      "name": "python3",
      "display_name": "Python 3"
    },
    "language_info": {
      "name": "python"
    }
  },
  "cells": [
    {
      "cell_type": "markdown",
      "metadata": {
        "id": "in6C9IGl-hYk"
      },
      "source": [
        "# Pandas DataFrame"
      ]
    },
    {
      "cell_type": "markdown",
      "metadata": {
        "id": "cRbsp5TO-lZ0"
      },
      "source": [
        "Pandas adalah Library analisis data yang memiliki struktur data yang diperlukan untuk membersihkan data mentah ke dalam sebuah bentuk yang cocok untuk analisis (yaitu tabel). Pandas melakukan tugas penting seperti menyelaraskan data untuk perbandingan dan penggabungan set data, penanganan data yang hilang, dll"
      ]
    },
    {
      "cell_type": "markdown",
      "metadata": {
        "id": "XTuwJzVi-qgj"
      },
      "source": [
        "# Import Modul"
      ]
    },
    {
      "cell_type": "code",
      "metadata": {
        "id": "U5P0dXzR-dea"
      },
      "source": [
        "import pandas as pd"
      ],
      "execution_count": null,
      "outputs": []
    },
    {
      "cell_type": "markdown",
      "metadata": {
        "id": "onvG9vdI-u9J"
      },
      "source": [
        "# Membuat DataFrame\n",
        "\n",
        "**Membuat Matriks Menggunakan List**"
      ]
    },
    {
      "cell_type": "code",
      "metadata": {
        "id": "2lPEU7sa-2yM"
      },
      "source": [
        "# List\n",
        "list_buah = ['Jeruk', 'Pepaya', 'Mangga', 'Rambutan', 'Leci', 'Nanas', 'Manggis']\n",
        "  \n",
        "# Membuat DataFrame menggunakan list_buah\n",
        "df = pd.DataFrame(list_buah)\n",
        "df"
      ],
      "execution_count": null,
      "outputs": []
    },
    {
      "cell_type": "markdown",
      "metadata": {
        "id": "o9rBeISp-7Yz"
      },
      "source": [
        "**Membuat Data Frame Menggunakan List dan Fungsi Zip**"
      ]
    },
    {
      "cell_type": "code",
      "metadata": {
        "id": "CIO4xaiA_DdB"
      },
      "source": [
        "# List Buah (string)\n",
        "list_buah = ['Jeruk', 'Pepaya', 'Mangga', 'Rambutan', 'Leci', 'Nanas', 'Manggis']\n",
        "  \n",
        "# List Berat Buah (Integer)\n",
        "list_berat = [50, 800, 150, 10, 2, 300, 70]\n",
        "  \n",
        "# Membuat dataframe menggunakan Dua Buah List dengan Fungsi Zip\n",
        "df = pd.DataFrame(list(zip(list_buah, list_berat)),\n",
        "               columns =['Nama Buah', 'Berat Buah'])\n",
        "df"
      ],
      "execution_count": null,
      "outputs": []
    },
    {
      "cell_type": "markdown",
      "metadata": {
        "id": "R71I1m12_EcW"
      },
      "source": [
        "**Membuat DataFrame Menggunakan List Multidimensi**"
      ]
    },
    {
      "cell_type": "code",
      "metadata": {
        "id": "PeIOi9p6_H8n"
      },
      "source": [
        "# List Multidimensi (Nama, Usia) \n",
        "lst = [['Bejo', 25], ['Ari', 30],\n",
        "       ['Asep', 26], ['Richard', 22]]\n",
        "    \n",
        "df = pd.DataFrame(lst, columns =['Nama', 'Usia'])\n",
        "df"
      ],
      "execution_count": null,
      "outputs": []
    },
    {
      "cell_type": "markdown",
      "metadata": {
        "id": "ViO4XyGV_K2A"
      },
      "source": [
        "**Membuat Dataframe Menggunakan Dictionary**\n",
        "\n",
        "Cara yang paling mudah dipahami untuk membuat dataframe adalah menggunakan input dictionary. Yang mana key akan menjadi nama kolom dan valuenya akan menjadi data dalam kolom tersebut(biasanya berupa list). Strukturnya adalah sebagai berikut:\n",
        "```\n",
        "data = {'Nama Kolom 1': ['Data Baris 1', 'Data Baris 2', ...],\n",
        "        'Nama Kolom 2': ['Data Baris 1', 'Data Baris 2', ...],\n",
        "         ...\n",
        "        }\n",
        "df = pd.DataFrame (data)\n",
        "```"
      ]
    },
    {
      "cell_type": "code",
      "metadata": {
        "id": "3dHcsO6B_Q0z"
      },
      "source": [
        "mobil = {'Type Mobil': ['Honda Civic','Toyota Corolla','Ford Focus','Audi A4'],\n",
        "        'Harga(USD)': [22000,25000,27000,35000]\n",
        "        }\n",
        "\n",
        "df = pd.DataFrame(mobil)\n",
        "\n",
        "df"
      ],
      "execution_count": null,
      "outputs": []
    },
    {
      "cell_type": "markdown",
      "metadata": {
        "id": "DRZiBZIQ_bCp"
      },
      "source": [
        "# Mengimport DataFrame"
      ]
    },
    {
      "cell_type": "markdown",
      "metadata": {
        "id": "92ziOlnw_zG7"
      },
      "source": [
        "Kamu dapat mengimpor dataframe dari file berupa tabel lainnya seperti .xls, .xlsx, .csv, .txt, dan .json."
      ]
    },
    {
      "cell_type": "markdown",
      "metadata": {
        "id": "opbbgalg_3aQ"
      },
      "source": [
        "# Import DataFrame dari File CSV"
      ]
    },
    {
      "cell_type": "code",
      "metadata": {
        "id": "nOpunLbo_-Tc"
      },
      "source": [
        "df_super_store = pd.read_csv('/content/Super-Store-Dataset.csv')\n",
        "df_super_store.head()"
      ],
      "execution_count": null,
      "outputs": []
    },
    {
      "cell_type": "markdown",
      "metadata": {
        "id": "YbB6tmer__HN"
      },
      "source": [
        "# Import DataFrame dari File Excel"
      ]
    },
    {
      "cell_type": "code",
      "metadata": {
        "id": "QEHmQNC-AKuy"
      },
      "source": [
        "df_pilkada=pd.read_excel('/content/datasetpilkadadki.xlsx')\n",
        "df_pilkada.head()"
      ],
      "execution_count": null,
      "outputs": []
    },
    {
      "cell_type": "markdown",
      "metadata": {
        "id": "CzdPG7gyALXV"
      },
      "source": [
        "## DataFrame & Series\n",
        "Di Pandas terdapat 2 kelas data baru yang digunakan sebagai struktur dari spreadsheet:\n",
        "\n",
        "1. **Series**\n",
        "2. **DataFrame**"
      ]
    },
    {
      "cell_type": "code",
      "metadata": {
        "id": "eNQ-5nUUAO__"
      },
      "source": [
        "# Series\n",
        "number_series = pd.Series([1,2,3,4,5,5])\n",
        "print(\"Series:\")\n",
        "number_series"
      ],
      "execution_count": null,
      "outputs": []
    },
    {
      "cell_type": "code",
      "metadata": {
        "id": "m6TlrWwdAR_2"
      },
      "source": [
        "# DataFrame\n",
        "matrix = [[1,2,3],\n",
        "          ['a','b','c'],\n",
        "          [3,4,5],\n",
        "          ['d',4,6]]\n",
        "\n",
        "matrix_df = pd.DataFrame(matrix)\n",
        "\n",
        "matrix_df"
      ],
      "execution_count": null,
      "outputs": []
    },
    {
      "cell_type": "markdown",
      "metadata": {
        "id": "HRsV-WDkAWOz"
      },
      "source": [
        "### Atribut DataFrame & Series\n",
        "Dataframe dan Series memiliki sangat banyak atribut yang digunakan untuk transformasi data, tetapi ada beberapa attribute yang sering dipakai. "
      ]
    },
    {
      "cell_type": "code",
      "metadata": {
        "id": "_aG2f1JaAZl9"
      },
      "source": [
        "df_super_store"
      ],
      "execution_count": null,
      "outputs": []
    },
    {
      "cell_type": "markdown",
      "metadata": {
        "id": "1MHhlMHRAdFP"
      },
      "source": [
        "**1. Atrribute .head()**\n",
        "\n",
        "Atrribute .head() untuk melihat 5(default dan bisa dirubah) data teratas pada dataframe."
      ]
    },
    {
      "cell_type": "code",
      "metadata": {
        "id": "j-M_vY1qAiy0"
      },
      "source": [
        "df_super_store.head()"
      ],
      "execution_count": null,
      "outputs": []
    },
    {
      "cell_type": "markdown",
      "metadata": {
        "id": "ob65qNBJAlh6"
      },
      "source": [
        "**2. Attribute .tail()**\n",
        "\n",
        "Attribute .tail() untuk melihat 5(default dan bisa dirubah) data teratas pada dataframe."
      ]
    },
    {
      "cell_type": "code",
      "metadata": {
        "id": "WyJI21t0ApZ8"
      },
      "source": [
        "df_super_store.tail()"
      ],
      "execution_count": null,
      "outputs": []
    },
    {
      "cell_type": "markdown",
      "metadata": {
        "id": "A2I3g7KIA53b"
      },
      "source": [
        "**3. Attribute .info()**\n",
        "\n",
        "Attribute .info() digunakan untuk mengecek kolom apa yang membentuk dataframe itu, data types, berapa yang non null, dll. Attribute ini tidak dapat digunakan pada series, hanya pada data frame saja"
      ]
    },
    {
      "cell_type": "code",
      "metadata": {
        "id": "CVwNYwBdA9QT"
      },
      "source": [
        "df_super_store.info()"
      ],
      "execution_count": null,
      "outputs": []
    },
    {
      "cell_type": "markdown",
      "metadata": {
        "id": "B1vy3-9DBBUr"
      },
      "source": [
        "**4. Attribute .shape**\n",
        "\n",
        "Attribute .shape digunakan untuk mengetahui berapa baris dan kolom, hasilnya dalam format tuple (baris, kolom)."
      ]
    },
    {
      "cell_type": "code",
      "metadata": {
        "id": "5k6Ce6vaBE-V"
      },
      "source": [
        "df_super_store.shape"
      ],
      "execution_count": null,
      "outputs": []
    },
    {
      "cell_type": "markdown",
      "metadata": {
        "id": "qpYlagmzBK3a"
      },
      "source": [
        "**5. Attribute .dtypes**\n",
        "\n",
        "Attribute .dtypes digunakan untuk mengetahui tipe data di tiap kolom. Tipe data object: kombinasi untuk berbagai tipe data (number & text, etc)."
      ]
    },
    {
      "cell_type": "code",
      "metadata": {
        "id": "Kt2jk8xgBO-W"
      },
      "source": [
        "df_super_store.dtypes"
      ],
      "execution_count": null,
      "outputs": []
    },
    {
      "cell_type": "markdown",
      "metadata": {
        "id": "6Qh6motSBRtr"
      },
      "source": [
        "**6. Attribute .astype(nama_tipe_data)**\n",
        "\n",
        "Attribute .astype(nama_tipe_data) untuk convert tipe data berdasarkan tipe data seperti: **float, int, str, numpy.float, numpy.int** ataupun **numpy.datetime**."
      ]
    },
    {
      "cell_type": "code",
      "metadata": {
        "id": "OiLJPYEMBWBk"
      },
      "source": [
        "df_str = df_super_store.astype(\"str\")\n",
        "df_str.head()"
      ],
      "execution_count": null,
      "outputs": []
    },
    {
      "cell_type": "code",
      "metadata": {
        "id": "2DLr_yKzBZBn"
      },
      "source": [
        "df_str.dtypes"
      ],
      "execution_count": null,
      "outputs": []
    },
    {
      "cell_type": "markdown",
      "metadata": {
        "id": "RS0DGTdeBb_D"
      },
      "source": [
        "**7. Attribute .copy()**\n",
        "\n",
        "Attribute .copy() digunakan melakukan duplikat, untuk disimpan di variable yang berbeda mungkin supaya tidak loading data lagi."
      ]
    },
    {
      "cell_type": "code",
      "metadata": {
        "id": "IW2jMovsBe3Q"
      },
      "source": [
        "df_SS=df_super_store.copy()\n",
        "df_SS"
      ],
      "execution_count": null,
      "outputs": []
    },
    {
      "cell_type": "markdown",
      "metadata": {
        "id": "Amx4ZcfXBkuX"
      },
      "source": [
        "**8. Attribute .to_list()**\n",
        "\n",
        "Attribute .to_list() digunakan untuk mengubah series menjadi list dan tidak dapat digunakan untuk dataframe."
      ]
    },
    {
      "cell_type": "code",
      "metadata": {
        "id": "YsdR_SUUBnlO"
      },
      "source": [
        "print(number_series.to_list())"
      ],
      "execution_count": null,
      "outputs": []
    },
    {
      "cell_type": "markdown",
      "metadata": {
        "id": "PXnBBmEsBrlu"
      },
      "source": [
        "**9. Attribute .unique()**\n",
        "\n",
        "Attribute .unique() digunakan menghasilkan nilai unik dari suatu kolom, hasilnya dalam bentuk numpy array. Attribute ini hanya digunakan pada series saja."
      ]
    },
    {
      "cell_type": "code",
      "metadata": {
        "id": "SOGsxlq2BuRQ"
      },
      "source": [
        "print(number_series.unique())"
      ],
      "execution_count": null,
      "outputs": []
    },
    {
      "cell_type": "markdown",
      "metadata": {
        "id": "2D6KSxprBxax"
      },
      "source": [
        "**10. Attribute .index**\n",
        "\n",
        "Attribute .index digunakan untuk mencari index/key dari Series atau Dataframe"
      ]
    },
    {
      "cell_type": "code",
      "metadata": {
        "id": "yH4JUt8dB5PY"
      },
      "source": [
        "df_super_store.index"
      ],
      "execution_count": null,
      "outputs": []
    },
    {
      "cell_type": "markdown",
      "metadata": {
        "id": "ZWTZROdtB73a"
      },
      "source": [
        "**11. Attribute .columns**\n",
        "\n",
        "Attribute .columns digunakan untuk mengetahui apa saja kolom yang tersedia di dataframe tersebut (hanya digunakan untuk dataframe saja)."
      ]
    },
    {
      "cell_type": "code",
      "metadata": {
        "id": "AKBJvG-2CCmU"
      },
      "source": [
        "df_super_store.columns"
      ],
      "execution_count": null,
      "outputs": []
    },
    {
      "cell_type": "markdown",
      "metadata": {
        "id": "WA4SmWFSCFTy"
      },
      "source": [
        "**12. Attribute .counts()**\n",
        "\n",
        "Attribute .count() untuk menghitung jumlah data pada masing-masing kolom."
      ]
    },
    {
      "cell_type": "code",
      "metadata": {
        "id": "gmBYoRxFCIjg"
      },
      "source": [
        "df_super_store.count()"
      ],
      "execution_count": null,
      "outputs": []
    },
    {
      "cell_type": "markdown",
      "metadata": {
        "id": "RxtJzZrkCLIM"
      },
      "source": [
        "**13. Attribute .value_counts**\n",
        "\n",
        "Attribute .value_counts digunakan untuk mengetahui jumlah data kategori unik pada setiap kolom"
      ]
    },
    {
      "cell_type": "code",
      "metadata": {
        "id": "P8ugOcn2CP8D"
      },
      "source": [
        "df_pilkada.head()"
      ],
      "execution_count": null,
      "outputs": []
    },
    {
      "cell_type": "code",
      "metadata": {
        "id": "e_aIE36wCSuI"
      },
      "source": [
        "df_pilkada.Sentiment.value_counts()"
      ],
      "execution_count": null,
      "outputs": []
    },
    {
      "cell_type": "markdown",
      "metadata": {
        "id": "1UU5ilM8CXqe"
      },
      "source": [
        "**14. Attribute .describe()**\n",
        "\n",
        "Attribute .describe() digunakan untuk menampilkan ringkasan statistik data numerik pada sebuah dataframe"
      ]
    },
    {
      "cell_type": "code",
      "metadata": {
        "id": "9P0Io6SPCa68"
      },
      "source": [
        "df_super_store.describe()"
      ],
      "execution_count": null,
      "outputs": []
    }
  ]
}