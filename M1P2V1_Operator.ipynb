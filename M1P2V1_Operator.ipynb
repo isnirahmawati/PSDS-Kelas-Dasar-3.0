{
  "nbformat": 4,
  "nbformat_minor": 0,
  "metadata": {
    "colab": {
      "name": "M1P2V1_Operator.ipynb",
      "provenance": []
    },
    "kernelspec": {
      "name": "python3",
      "display_name": "Python 3"
    },
    "language_info": {
      "name": "python"
    }
  },
  "cells": [
    {
      "cell_type": "markdown",
      "metadata": {
        "id": "qiNYZm57-Eco"
      },
      "source": [
        "# Operator"
      ]
    },
    {
      "cell_type": "markdown",
      "metadata": {
        "id": "KvWrC5cP-H_0"
      },
      "source": [
        "Operator = Simbol-simbol yang dapat digunakan untuk mengubah nilai dari satu variabel dengan melibatkan satu atau lebih variabel dan literal. Tipe-tipe operator :\n",
        "\n",
        "1.   Operator Aritmatika\n",
        "2.   Operator Assignment\n",
        "3.   Operator Pembanding\n",
        "4.   Operator Logika\n",
        "5.   Operator Membership"
      ]
    },
    {
      "cell_type": "markdown",
      "metadata": {
        "id": "wGDC-4s8-4ut"
      },
      "source": [
        "# Operator Aritmatika"
      ]
    },
    {
      "cell_type": "markdown",
      "metadata": {
        "id": "RSKIkc7F-9K_"
      },
      "source": [
        "Operator Aritmatika digunakan untuk melakukan operasi matematika yang umum"
      ]
    },
    {
      "cell_type": "code",
      "metadata": {
        "colab": {
          "base_uri": "https://localhost:8080/"
        },
        "id": "WGBPPhVt_0H3",
        "outputId": "4ad39b5c-7a34-4081-da91-671d558e49cd"
      },
      "source": [
        "#Contoh penggunaan operator aritmatika\n",
        "\n",
        "#penjumlahan\n",
        "print('Penjumlahan')\n",
        "print(2+2)\n",
        "#pengurangan\n",
        "print('Pengurangan')\n",
        "print(2-3)\n",
        "#Perkalian\n",
        "print('-'*20)\n",
        "print('Perkalian')\n",
        "print(2*3)\n",
        "#Pembagian\n",
        "print('-'*20)\n",
        "print('Pembagian')\n",
        "print(2/3)\n",
        "#Modulus\n",
        "print('-'*20)\n",
        "print('Modulus')\n",
        "print(2%3)\n",
        "#Perpangkatan \n",
        "print('-'*20)\n",
        "print('Perpangkatan')\n",
        "print(2**3)\n",
        "#Pembagian Pembulatan Floring\n",
        "print('-'*20)\n",
        "print('Pembagian Pembulatan Floring')\n",
        "print(3//2)"
      ],
      "execution_count": 1,
      "outputs": [
        {
          "output_type": "stream",
          "name": "stdout",
          "text": [
            "Penjumlahan\n",
            "4\n",
            "Pengurangan\n",
            "-1\n",
            "--------------------\n",
            "Perkalian\n",
            "6\n",
            "--------------------\n",
            "Pembagian\n",
            "0.6666666666666666\n",
            "--------------------\n",
            "Modulus\n",
            "2\n",
            "--------------------\n",
            "Perpangkatan\n",
            "8\n",
            "--------------------\n",
            "Pembagian Pembulatan Floring\n",
            "1\n"
          ]
        }
      ]
    },
    {
      "cell_type": "markdown",
      "metadata": {
        "id": "72azwlPYACbL"
      },
      "source": [
        "# Operator Assignment"
      ]
    },
    {
      "cell_type": "markdown",
      "metadata": {
        "id": "vda0PgHUAEZD"
      },
      "source": [
        "Operator Assignment digunakan untuk menyimpan nilai menjadi suatu variabel."
      ]
    },
    {
      "cell_type": "code",
      "metadata": {
        "colab": {
          "base_uri": "https://localhost:8080/"
        },
        "id": "njYbRlD3AL-L",
        "outputId": "ae3d0ee4-5962-484a-e26b-03c490e48daf"
      },
      "source": [
        "#Contoh penggunaan operator assignment\n",
        "\n",
        "#Penjumlahan \n",
        "print('Penjumlahan')\n",
        "x=5\n",
        "x=x+5\n",
        "print(x)\n",
        "x=5\n",
        "x+=3\n",
        "print(x)\n",
        "print('-'*20)\n",
        "\n",
        "#Pengurangan\n",
        "print('Pengurangan')\n",
        "x=5\n",
        "x=x-5\n",
        "print(x)\n",
        "x=5\n",
        "x-=3\n",
        "print(x)\n",
        "print('-'*20)\n",
        "\n",
        "#Perkalian\n",
        "print('Perkalian')\n",
        "x=5\n",
        "x=x*5\n",
        "print(x)\n",
        "x=5\n",
        "x*=3\n",
        "print(x)\n",
        "print('-'*20)\n",
        "\n",
        "#Pembagian\n",
        "print('Pembagian')\n",
        "x=5\n",
        "x=x/5\n",
        "print(x)\n",
        "x=5\n",
        "x/=3\n",
        "print(x)\n",
        "print('-'*20)\n",
        "\n",
        "#Modulus\n",
        "print('Modulus')\n",
        "x=5\n",
        "x=x%5\n",
        "print(x)\n",
        "x=5\n",
        "x%=3\n",
        "print(x)\n",
        "print('-'*20)\n",
        "\n",
        "#Pembagian Floring\n",
        "print('Pembagian Floring')\n",
        "x=5\n",
        "x=x//5\n",
        "print(x)\n",
        "x=5\n",
        "x//=3\n",
        "print('-'*20)\n",
        "\n",
        "#Perpangkatan\n",
        "print('Perpangkatan')\n",
        "x=5\n",
        "x=x**5\n",
        "print(x)\n",
        "x=5\n",
        "x**=3\n",
        "print(x)\n",
        "print('-'*20)"
      ],
      "execution_count": 2,
      "outputs": [
        {
          "output_type": "stream",
          "name": "stdout",
          "text": [
            "Penjumlahan\n",
            "10\n",
            "8\n",
            "--------------------\n",
            "Pengurangan\n",
            "0\n",
            "2\n",
            "--------------------\n",
            "Perkalian\n",
            "25\n",
            "15\n",
            "--------------------\n",
            "Pembagian\n",
            "1.0\n",
            "1.6666666666666667\n",
            "--------------------\n",
            "Modulus\n",
            "0\n",
            "2\n",
            "--------------------\n",
            "Pembagian Floring\n",
            "1\n",
            "--------------------\n",
            "Perpangkatan\n",
            "3125\n",
            "125\n",
            "--------------------\n"
          ]
        }
      ]
    },
    {
      "cell_type": "markdown",
      "metadata": {
        "id": "38VsGUq4AiER"
      },
      "source": [
        "# Operator Pembanding"
      ]
    },
    {
      "cell_type": "markdown",
      "metadata": {
        "id": "sLTJ9jUEAjb7"
      },
      "source": [
        "Operator Pembanding digunakan untuk membandingkan 2 nilai atau variabel."
      ]
    },
    {
      "cell_type": "code",
      "metadata": {
        "colab": {
          "base_uri": "https://localhost:8080/"
        },
        "id": "Gvqd5hLBAozt",
        "outputId": "75b2addb-468d-49c9-fff9-9f5256917ca5"
      },
      "source": [
        "#Contoh penggunaan operator pembanding\n",
        "\n",
        "print(2==2)\n",
        "print(2!=2)\n",
        "print(2>2)\n",
        "print(2<2)\n",
        "print(2>=2)\n",
        "print(2<=2)"
      ],
      "execution_count": 3,
      "outputs": [
        {
          "output_type": "stream",
          "name": "stdout",
          "text": [
            "True\n",
            "False\n",
            "False\n",
            "False\n",
            "True\n",
            "True\n"
          ]
        }
      ]
    },
    {
      "cell_type": "markdown",
      "metadata": {
        "id": "4MEt8wtQAtLg"
      },
      "source": [
        "# Operator Logika"
      ]
    },
    {
      "cell_type": "markdown",
      "metadata": {
        "id": "juHW6uV-Axf5"
      },
      "source": [
        "Operator Logika digunakan untuk mengkombinasikan statment-statment kondisional."
      ]
    },
    {
      "cell_type": "code",
      "metadata": {
        "colab": {
          "base_uri": "https://localhost:8080/"
        },
        "id": "Txt91FKDA01I",
        "outputId": "5fc058f9-33ed-4893-cf06-3824a777ed4b"
      },
      "source": [
        "#Contoh penggunaan operator logika\n",
        "\n",
        "print(True and False)\n",
        "print(False or False)\n",
        "print(not False and True)"
      ],
      "execution_count": 4,
      "outputs": [
        {
          "output_type": "stream",
          "name": "stdout",
          "text": [
            "False\n",
            "False\n",
            "True\n"
          ]
        }
      ]
    },
    {
      "cell_type": "markdown",
      "metadata": {
        "id": "HUB40QGJA6bM"
      },
      "source": [
        "# Operator Keanggotaan"
      ]
    },
    {
      "cell_type": "markdown",
      "metadata": {
        "id": "fY6DesgmA_Rt"
      },
      "source": [
        "Operator Keanggotaan digunakan untuk menguji apakah urutan disajikan dalam suatu objek."
      ]
    },
    {
      "cell_type": "code",
      "metadata": {
        "colab": {
          "base_uri": "https://localhost:8080/"
        },
        "id": "UIb7B7SZBDMa",
        "outputId": "1c08c1da-780f-47e4-ae00-4db04b78aedb"
      },
      "source": [
        "#Contoh penggunaan operator keanggotaan\n",
        "a=(1,2,3,4,5,6)\n",
        "b=2\n",
        "\n",
        "print(b in a)\n",
        "\n",
        "print('-'*20)\n",
        "a=(1,2,3,4,5,6)\n",
        "b=7\n",
        "print(b not in a)"
      ],
      "execution_count": 5,
      "outputs": [
        {
          "output_type": "stream",
          "name": "stdout",
          "text": [
            "True\n",
            "--------------------\n",
            "True\n"
          ]
        }
      ]
    }
  ]
}