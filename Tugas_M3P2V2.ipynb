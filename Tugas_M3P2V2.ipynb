{
  "nbformat": 4,
  "nbformat_minor": 0,
  "metadata": {
    "colab": {
      "name": "Tugas_M3P2V2.ipynb",
      "provenance": []
    },
    "kernelspec": {
      "name": "python3",
      "display_name": "Python 3"
    },
    "language_info": {
      "name": "python"
    }
  },
  "cells": [
    {
      "cell_type": "markdown",
      "metadata": {
        "id": "Zy0APhXV9GEN"
      },
      "source": [
        "# Latihan "
      ]
    },
    {
      "cell_type": "markdown",
      "metadata": {
        "id": "MSjslGUV-GYa"
      },
      "source": [
        "1. Buatlah fungsi lambda untuk menghitung luas persegi panjang"
      ]
    },
    {
      "cell_type": "markdown",
      "metadata": {
        "id": "cpL14Dno9JiB"
      },
      "source": [
        "```\n",
        "*   Input berupa Variabel p dan l\n",
        "*   fungsi lambda disimpan dalam variabel `Luas_Persegi_Panjang`\n",
        "*   jika fungsi lambda dijalankan akan menghasilkan output \"Luas Persegi Panjang anda *(luasnya)* cm\". \n",
        "```"
      ]
    },
    {
      "cell_type": "code",
      "metadata": {
        "colab": {
          "base_uri": "https://localhost:8080/"
        },
        "id": "BiCkGK5e7qdi",
        "outputId": "5443fa44-53e9-499e-b114-b58b6cf074fe"
      },
      "source": [
        "Luas_Persegi_Panjang = (lambda p,l: p*l)(7,5)\n",
        "print(\"Luas Persegi Panjang saya adalah\", Luas_Persegi_Panjang, \"cm\")"
      ],
      "execution_count": 6,
      "outputs": [
        {
          "output_type": "stream",
          "name": "stdout",
          "text": [
            "Luas Persegi Panjang saya adalah 35 cm\n"
          ]
        }
      ]
    },
    {
      "cell_type": "markdown",
      "metadata": {
        "id": "MZkbG5lQ9rFC"
      },
      "source": [
        "2. Buatlah fungsi lambda untuk menghitung luas dari segitiga"
      ]
    },
    {
      "cell_type": "markdown",
      "metadata": {
        "id": "V0x8iyIs-UjE"
      },
      "source": [
        "```\n",
        "*   Input berupa Variabel a dan t\n",
        "*   fungsi lambda disimpan dalam variabel `Luas_Segitiga`\n",
        "*   jika fungsi lambda dijalankan akan menghasilkan output \"Luas Segitiga anda *(luasnya)* cm\". \n",
        "```"
      ]
    },
    {
      "cell_type": "code",
      "metadata": {
        "colab": {
          "base_uri": "https://localhost:8080/"
        },
        "id": "tTHZOjZa-m60",
        "outputId": "26120bc2-ac72-4430-9c53-ac0973b0f295"
      },
      "source": [
        "Luas_Segitiga = (lambda a,t: (a*t)/2)(3,6)\n",
        "print(\"Luas Segitiga saya adalah\", Luas_Segitiga, \"cm\")"
      ],
      "execution_count": 5,
      "outputs": [
        {
          "output_type": "stream",
          "name": "stdout",
          "text": [
            "Luas Segitiga saya adalah 9.0 cm\n"
          ]
        }
      ]
    }
  ]
}