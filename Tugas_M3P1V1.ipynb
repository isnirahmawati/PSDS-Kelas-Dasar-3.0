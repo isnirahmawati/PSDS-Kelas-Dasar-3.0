{
  "nbformat": 4,
  "nbformat_minor": 0,
  "metadata": {
    "colab": {
      "name": "Tugas M3P1V1.ipynb",
      "provenance": [],
      "collapsed_sections": []
    },
    "kernelspec": {
      "name": "python3",
      "display_name": "Python 3"
    },
    "language_info": {
      "name": "python"
    }
  },
  "cells": [
    {
      "cell_type": "markdown",
      "metadata": {
        "id": "jNBjMExsiNk6"
      },
      "source": [
        "# Latihan"
      ]
    },
    {
      "cell_type": "markdown",
      "metadata": {
        "id": "PJi-jW9HiUPA"
      },
      "source": [
        "Buatlah sebuah fungsi \"Mahal_Diskon\" dengan ketentuan :\n",
        "*   Input berupa data harga produk dengan tipe data numerik Tunggal\n",
        "*   Kategori input adalah \"Murah\" dan \"Mahal\", kemudian diskon ada 3 kategori \"10%\", \"20%\", dan \"40%\"\n",
        "*   Output pertama sebuah teks/string yang menyatakan \"Mahal\" atau \"Murah\" dan keterangan \"Kamu Dapat Diskon....\"\n",
        "*   Output kedua adalah harga yang perlu dibayarkan\n",
        "\n",
        "\n",
        "\n"
      ]
    },
    {
      "cell_type": "code",
      "metadata": {
        "id": "aP8O07KciI9z"
      },
      "source": [
        "def Mahal_Diskon(harga_awal):\n",
        "  harga_diskon = harga_awal\n",
        "  if harga_awal >= 450000:\n",
        "    print(\"Mahal, Kamu Dapat Diskon 40%\")\n",
        "    x = harga_awal*(40/100)\n",
        "  elif harga_awal <= 170000:\n",
        "    print(\"Murah, Kamu Dapat Diskon 20%\")\n",
        "    x = harga_awal*(20/100)\n",
        "  else:\n",
        "    print(\"Murah, Kamu Dapat Diskon 10%\")\n",
        "    x = harga_awal*(10/100)\n",
        "  \n",
        "  harga_diskon = harga_awal-x\n",
        "  print(\"Harga yang perlu dibayarkan adalah\", int(harga_diskon))\n",
        "  return"
      ],
      "execution_count": 2,
      "outputs": []
    },
    {
      "cell_type": "code",
      "metadata": {
        "colab": {
          "base_uri": "https://localhost:8080/"
        },
        "id": "O7JD5RAkMI7G",
        "outputId": "ce5671d9-aab3-4a75-ce61-bcde483cdf95"
      },
      "source": [
        "Mahal_Diskon(470000)"
      ],
      "execution_count": 6,
      "outputs": [
        {
          "output_type": "stream",
          "name": "stdout",
          "text": [
            "Mahal, Kamu Dapat Diskon 40%\n",
            "Harga yang perlu dibayarkan adalah 282000\n"
          ]
        }
      ]
    }
  ]
}