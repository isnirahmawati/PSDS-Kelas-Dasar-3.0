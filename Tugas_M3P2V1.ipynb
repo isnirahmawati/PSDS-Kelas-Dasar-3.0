{
  "nbformat": 4,
  "nbformat_minor": 0,
  "metadata": {
    "colab": {
      "name": "Tugas M3P2V1.ipynb",
      "provenance": []
    },
    "kernelspec": {
      "name": "python3",
      "display_name": "Python 3"
    },
    "language_info": {
      "name": "python"
    }
  },
  "cells": [
    {
      "cell_type": "markdown",
      "metadata": {
        "id": "vLqDm8HYe9dk"
      },
      "source": [
        "# Latihan 1"
      ]
    },
    {
      "cell_type": "markdown",
      "metadata": {
        "id": "h6Sj32Bfe_i-"
      },
      "source": [
        "Buatlah funtion dengan input argumennya panjang, tinggi dan alas segitiga untuk menghasilakan output nilai panjang sisi miring"
      ]
    },
    {
      "cell_type": "code",
      "metadata": {
        "colab": {
          "base_uri": "https://localhost:8080/"
        },
        "id": "qhYJ_Y2Deuu2",
        "outputId": "94ee5256-042e-40f3-eb24-967c2b02d23f"
      },
      "source": [
        "def pythagoras(x, y, z):\n",
        "  print(x, y, z)\n",
        "  \n",
        "print(\"Masukkan panjang tinggi (x): \")\n",
        "x = int(input())\n",
        "print(\"Masukkan alas segitiga (y): \")\n",
        "y = int(input())\n",
        "z = (x** 2 + y**2)**(0.5)\n",
        "\n",
        "print(\"Panjang sisi miringnya adalah (z) = \" + str(z))"
      ],
      "execution_count": 13,
      "outputs": [
        {
          "output_type": "stream",
          "name": "stdout",
          "text": [
            "Masukkan panjang tinggi (x): \n",
            "9\n",
            "Masukkan alas segitiga (y): \n",
            "12\n",
            "Panjang sisi miringnya adalah (z) = 15.0\n"
          ]
        }
      ]
    },
    {
      "cell_type": "markdown",
      "metadata": {
        "id": "Ll-wNrSofOOf"
      },
      "source": [
        "# Latihan 2"
      ]
    },
    {
      "cell_type": "markdown",
      "metadata": {
        "id": "Lg6rUKLefQXc"
      },
      "source": [
        "Buatlah funtion luas permukaan balok dengan input argumennya panjang, lebar dan tinggi dari balok untuk menghasilkan output nilai luas permukaan balok tersebut"
      ]
    },
    {
      "cell_type": "code",
      "metadata": {
        "colab": {
          "base_uri": "https://localhost:8080/"
        },
        "id": "ijKdqyQTfgXg",
        "outputId": "495397b8-fc05-4912-e8c3-ad680020195a"
      },
      "source": [
        "def luas_balok(p, l, t):\n",
        "  print(p, l, t)\n",
        "  \n",
        "print(\"Masukkan nilai panjang (p): \")\n",
        "p = int(input())\n",
        "print(\"Masukkan nilai lebar (l): \")\n",
        "l = int(input())\n",
        "print(\"Masukkan nilai tinggi (t): \")\n",
        "t = int(input())\n",
        "L = 2*(p*l + p*t + l*t)\n",
        "\n",
        "print(\"Luas permukaan balok adalah = \" + str(L))"
      ],
      "execution_count": 14,
      "outputs": [
        {
          "output_type": "stream",
          "name": "stdout",
          "text": [
            "Masukkan nilai panjang (p): \n",
            "3\n",
            "Masukkan nilai lebar (l): \n",
            "4\n",
            "Masukkan nilai tinggi (t): \n",
            "5\n",
            "Luas permukaan balok adalah = 94\n"
          ]
        }
      ]
    }
  ]
}