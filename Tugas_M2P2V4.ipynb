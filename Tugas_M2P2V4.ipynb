{
  "nbformat": 4,
  "nbformat_minor": 0,
  "metadata": {
    "colab": {
      "name": "Tugas M2P2V4.ipynb",
      "provenance": []
    },
    "kernelspec": {
      "name": "python3",
      "display_name": "Python 3"
    },
    "language_info": {
      "name": "python"
    }
  },
  "cells": [
    {
      "cell_type": "markdown",
      "metadata": {
        "id": "ks9f9r5IIHyB"
      },
      "source": [
        "Latihan 1"
      ]
    },
    {
      "cell_type": "code",
      "metadata": {
        "colab": {
          "base_uri": "https://localhost:8080/"
        },
        "id": "dIqzxkXwID_g",
        "outputId": "0732c327-6700-43af-9be9-7f5b6661acc1"
      },
      "source": [
        "X = \"ada banyak makanan di tas\"\n",
        "print(X)"
      ],
      "execution_count": 28,
      "outputs": [
        {
          "output_type": "stream",
          "name": "stdout",
          "text": [
            "ada banyak makanan di tas\n"
          ]
        }
      ]
    },
    {
      "cell_type": "code",
      "metadata": {
        "colab": {
          "base_uri": "https://localhost:8080/"
        },
        "id": "RkpdDQVmIoIn",
        "outputId": "2cb523ea-6b0f-44f5-9e70-5cf768fe12e0"
      },
      "source": [
        "#slicing \n",
        "X = \"ada banyak makanan di tas\"\n",
        "print(X[1:24])"
      ],
      "execution_count": 31,
      "outputs": [
        {
          "output_type": "stream",
          "name": "stdout",
          "text": [
            "da banyak makanan di ta\n"
          ]
        }
      ]
    },
    {
      "cell_type": "markdown",
      "metadata": {
        "id": "6j1xZxRaJZFQ"
      },
      "source": [
        "Latihan 2"
      ]
    },
    {
      "cell_type": "code",
      "metadata": {
        "id": "SEEUNKqxJaqK"
      },
      "source": [
        "X = \"ada banyak makanan di tas\"\n",
        "a = X.replace('a', 'i')"
      ],
      "execution_count": 32,
      "outputs": []
    },
    {
      "cell_type": "code",
      "metadata": {
        "colab": {
          "base_uri": "https://localhost:8080/",
          "height": 35
        },
        "id": "12_QEdVaLKxt",
        "outputId": "bb59a706-456a-4250-ab61-246621a9d39e"
      },
      "source": [
        " a "
      ],
      "execution_count": 33,
      "outputs": [
        {
          "output_type": "execute_result",
          "data": {
            "application/vnd.google.colaboratory.intrinsic+json": {
              "type": "string"
            },
            "text/plain": [
              "'idi binyik mikinin di tis'"
            ]
          },
          "metadata": {},
          "execution_count": 33
        }
      ]
    }
  ]
}