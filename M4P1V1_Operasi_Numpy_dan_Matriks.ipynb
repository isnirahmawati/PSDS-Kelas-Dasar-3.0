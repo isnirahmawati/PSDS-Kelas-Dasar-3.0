{
  "nbformat": 4,
  "nbformat_minor": 0,
  "metadata": {
    "colab": {
      "name": "M4P1V1_Operasi_Numpy_dan_Matriks.ipynb",
      "provenance": [],
      "collapsed_sections": []
    },
    "kernelspec": {
      "name": "python3",
      "display_name": "Python 3"
    },
    "language_info": {
      "name": "python"
    }
  },
  "cells": [
    {
      "cell_type": "markdown",
      "metadata": {
        "id": "7ZTcwETwzVtj"
      },
      "source": [
        "# Numpy Array"
      ]
    },
    {
      "cell_type": "markdown",
      "metadata": {
        "id": "r-FHutfLzaXM"
      },
      "source": [
        "NumPy merupakan salah satu library Python yang banyak digunakan dalam proses analisis data karena fiturnya yang hebat"
      ]
    },
    {
      "cell_type": "code",
      "metadata": {
        "id": "m40xKL4LzkRe"
      },
      "source": [
        "import numpy as np"
      ],
      "execution_count": null,
      "outputs": []
    },
    {
      "cell_type": "markdown",
      "metadata": {
        "id": "PBXmZsISzm6u"
      },
      "source": [
        "# Membuat Array NumPy"
      ]
    },
    {
      "cell_type": "markdown",
      "metadata": {
        "id": "md_66bD_ztZL"
      },
      "source": [
        "Kita bisa membuat Array menggunakan NumPy dengan membungkusnya terlebih dahulu di List dan dirubah menjadi numpy array"
      ]
    },
    {
      "cell_type": "code",
      "metadata": {
        "id": "Fg08_XnP0AnH"
      },
      "source": [
        "list_1 = [1,2,3,4,5]\n",
        "arr_1 = np.array([list_1])\n",
        "arr_1"
      ],
      "execution_count": null,
      "outputs": []
    },
    {
      "cell_type": "markdown",
      "metadata": {
        "id": "BxwELWI7z2JP"
      },
      "source": [
        "Beberapa fungsi yang dapat digunakan dalam membuat array"
      ]
    },
    {
      "cell_type": "markdown",
      "metadata": {
        "id": "veLMpgS40JiR"
      },
      "source": [
        "Beberapa fungsi yang dapat digunakan dalam membuat array \n",
        "\n",
        "```\n",
        "zeros()    -> Membuat array dengan nilai 0\n",
        "ones()     -> Membuat array dengan nilai 1\n",
        "arange()   -> Membuat array dengan nilai dalam range \n",
        "linspace() -> Membuat array dengan nilai dalam interval\n",
        "logspace() -> Membuat array dengan nilai log Base10 dalam interval\n",
        "full       -> Membuat array dengan semua elemen penyusunnya sama\n",
        "full_like  -> Membuat array dengan semua elemen penyusunnya sama namun ukurannya dari array lainnya\n",
        "identity   -> Membuat array matriks identitas\n",
        "repeat     -> Membuat array dengan perulangan array atau sequence \n",
        "```"
      ]
    },
    {
      "cell_type": "code",
      "metadata": {
        "id": "MpYc9d9d0K1C"
      },
      "source": [
        "print(np.zeros((2,5))) # membuat array dengan nilai 0 dengan shape (5,5)"
      ],
      "execution_count": null,
      "outputs": []
    },
    {
      "cell_type": "code",
      "metadata": {
        "id": "leWzy3LT0O4p"
      },
      "source": [
        "print(np.ones((5,3))) # membuat array dengan nilai 1 dengan shape (5,5)"
      ],
      "execution_count": null,
      "outputs": []
    },
    {
      "cell_type": "code",
      "metadata": {
        "id": "-o2IwdUN0Rwb"
      },
      "source": [
        "print(np.arange(1, 10, 2)) #arange(start, stop, step)"
      ],
      "execution_count": null,
      "outputs": []
    },
    {
      "cell_type": "code",
      "metadata": {
        "id": "4EjObmmy0Utf"
      },
      "source": [
        "print(np.linspace(1, 10, 2)) # linespace(start, stop, number)"
      ],
      "execution_count": null,
      "outputs": []
    },
    {
      "cell_type": "code",
      "metadata": {
        "id": "xCtJKJJK0Yqp"
      },
      "source": [
        "print(np.logspace(1, 10, 2)) # logspace(start, stop, number)"
      ],
      "execution_count": null,
      "outputs": []
    },
    {
      "cell_type": "code",
      "metadata": {
        "id": "U-qlJTO10a55"
      },
      "source": [
        "print(np.full((2,2), 4)) # Membuat array matriks dengan shape (2,2) dengan elemen 99"
      ],
      "execution_count": null,
      "outputs": []
    },
    {
      "cell_type": "code",
      "metadata": {
        "id": "ko6VcVDX0gib"
      },
      "source": [
        "A = np.array([[1,2,3,4,5,6,7],[8,9,10,11,12,13,14]])\n",
        "print(A)\n",
        "\n",
        "print(np.full_like(A, 3)) # Membuat array matriks dengan shape yang sama dengan A dengan semua elemennya 4"
      ],
      "execution_count": null,
      "outputs": []
    },
    {
      "cell_type": "code",
      "metadata": {
        "id": "Wek1o9tr0oKT"
      },
      "source": [
        "print(np.random.rand(4,2)) # Random decimal numbers"
      ],
      "execution_count": null,
      "outputs": []
    },
    {
      "cell_type": "code",
      "metadata": {
        "id": "kmtEGphq0qti"
      },
      "source": [
        "print(np.random.randint(-4,8, size=(3,3))) # Random Integer values"
      ],
      "execution_count": null,
      "outputs": []
    },
    {
      "cell_type": "code",
      "metadata": {
        "id": "J2x-nGYx0tya"
      },
      "source": [
        "print(np.identity(5)) # Membuat matriks identitas"
      ],
      "execution_count": null,
      "outputs": []
    },
    {
      "cell_type": "code",
      "metadata": {
        "id": "Ox58jdv00v8q"
      },
      "source": [
        "arr = np.array([[1,2,3]]) # Membuat matriks dengan perulangan array\n",
        "r1 = np.repeat(arr,3, axis=0)\n",
        "print(r1)"
      ],
      "execution_count": null,
      "outputs": []
    },
    {
      "cell_type": "markdown",
      "metadata": {
        "id": "3CWimnRC0yVb"
      },
      "source": [
        "# Metode-metode pada Array"
      ]
    },
    {
      "cell_type": "markdown",
      "metadata": {
        "id": "4jwRk_2601zr"
      },
      "source": [
        "Objek array pada Python Numpy memiliki berbagai method untuk melakukan operasi atau perintah-perintah tertentu. Berikut adalah fungsi-fungsi yang merupakan metode pada array yang sering dipakai:"
      ]
    },
    {
      "cell_type": "markdown",
      "metadata": {
        "id": "Y_SRjzpD06FF"
      },
      "source": [
        "**array.ndim**\n",
        "\n",
        "Metode ini digunakan untuk mengetahui dimensi dari array."
      ]
    },
    {
      "cell_type": "code",
      "metadata": {
        "id": "CGJ_Van10-TW"
      },
      "source": [
        "a=np.array([29, 28, 30], dtype='int32')\n",
        "print(a)\n",
        "\n",
        "print(\"Dimensi dari array a adalah \", a.ndim)"
      ],
      "execution_count": null,
      "outputs": []
    },
    {
      "cell_type": "markdown",
      "metadata": {
        "id": "M9F5IXLr1A7O"
      },
      "source": [
        "**array.shape**\n",
        "\n",
        "Metode ini digunakan untuk mengetahui ukuran (variabel dan baris) dari array."
      ]
    },
    {
      "cell_type": "code",
      "metadata": {
        "id": "p5lzJt0s1Ejy"
      },
      "source": [
        "b = np.array([[9.0,8.0,7.0],[6.0,5.0,4.0]])\n",
        "print(b)\n",
        "\n",
        "print(\"Ukuran Shape dari array b adalah \", b.shape)"
      ],
      "execution_count": null,
      "outputs": []
    },
    {
      "cell_type": "markdown",
      "metadata": {
        "id": "xv96oYYh1Ive"
      },
      "source": [
        "**array.dtype**\n",
        "\n",
        "Metode ini digunakan untuk mengetahui type data dari elemen penyusun array."
      ]
    },
    {
      "cell_type": "code",
      "metadata": {
        "id": "k-o_GYWq1Pdm"
      },
      "source": [
        "a.dtype"
      ],
      "execution_count": null,
      "outputs": []
    },
    {
      "cell_type": "markdown",
      "metadata": {
        "id": "lU-2qebM1Rra"
      },
      "source": [
        "**array.size**\n",
        "\n",
        "Metode ini digunakan untuk menghitung jumlah elemen dari array."
      ]
    },
    {
      "cell_type": "code",
      "metadata": {
        "id": "YhcHmeZ81VKj"
      },
      "source": [
        "a.size"
      ],
      "execution_count": null,
      "outputs": []
    },
    {
      "cell_type": "markdown",
      "metadata": {
        "id": "LbHKHhVC1Zi9"
      },
      "source": [
        "# Multidimensional Array"
      ]
    },
    {
      "cell_type": "markdown",
      "metadata": {
        "id": "RM2OOqY_1dBR"
      },
      "source": [
        "Salah satu fitur menarik dari NumPy adalah dia mampu membuat multidimensional array dan melakukan manipulasi array dengan mudah dan cepat\n",
        "\n",
        "Multidimensional array adalah array yang berbentuk lebih dari 1 dimensi (1D), bisa 2D, 3D, 4D dan seterusnya\n",
        "\n",
        "Cara membuat multidimensional array sama dengan membuat array 1 dimensi, perbedaannya hanya pada parameter yang digunakan\n",
        "\n",
        "Berikut contohnya membuat array 2 dimensi"
      ]
    },
    {
      "cell_type": "code",
      "metadata": {
        "id": "pZxENvML1ZE_"
      },
      "source": [
        "arr_2 = np.array([[1,2,3,4,5], [2,4,6,8,10]])\n",
        "arr_2"
      ],
      "execution_count": null,
      "outputs": []
    },
    {
      "cell_type": "markdown",
      "metadata": {
        "id": "JTLQVly41kLc"
      },
      "source": [
        "\n",
        "Array diatas adalah berbentuk (2,5) artinya mempunyai 2 baris dan 5 kolom\n",
        "\n",
        "Kita bisa melihat jumlah elemen di setiap dimensi dengan menggunakan shape"
      ]
    },
    {
      "cell_type": "code",
      "metadata": {
        "id": "hoOs4uZs1k6X"
      },
      "source": [
        "arr_2.shape"
      ],
      "execution_count": null,
      "outputs": []
    },
    {
      "cell_type": "markdown",
      "metadata": {
        "id": "i2fxgcUX1pbH"
      },
      "source": [
        "# Indexing dan Slicing"
      ]
    },
    {
      "cell_type": "markdown",
      "metadata": {
        "id": "Z2o9CLgS1s9g"
      },
      "source": [
        "Kita juga dapat melakukan indexing dan slicing terhadap array dengan mudah\n",
        "\n",
        "Indexing dimulai dari 0 dan dimulai dengan notasi bracket “[ ]”\n",
        "\n",
        "Misal kita ingin mencari nilai yang berada di index 0, 2, dan 4"
      ]
    },
    {
      "cell_type": "code",
      "metadata": {
        "id": "TUNx-9M01vZ7"
      },
      "source": [
        "arr_3 = np.array([1,2,3,4,5])\n",
        "print(arr_3[0])\n",
        "print(arr_3[2])\n",
        "print(arr_3[4])"
      ],
      "execution_count": null,
      "outputs": []
    },
    {
      "cell_type": "markdown",
      "metadata": {
        "id": "V8BMSLBP10iy"
      },
      "source": [
        "Untuk mengambil nilai berderet tambahkan “:”"
      ]
    },
    {
      "cell_type": "code",
      "metadata": {
        "id": "wTWGnsAW12fl"
      },
      "source": [
        "arr_3 = np.array([1,2,3,4,5])\n",
        "print(arr_3[0:4])"
      ],
      "execution_count": null,
      "outputs": []
    },
    {
      "cell_type": "code",
      "metadata": {
        "id": "D6R5rLxv14uO"
      },
      "source": [
        "arr_4 = np.array([[1,2,3,4,5], [2,4,6,8,10]])\n",
        "print(arr_4)\n",
        "print(arr_4[1,3])"
      ],
      "execution_count": null,
      "outputs": []
    },
    {
      "cell_type": "markdown",
      "metadata": {
        "id": "ueYhiNEf17a0"
      },
      "source": [
        "Nilai pada kolom index ke-1 dan baris index ke-1 adalah 4"
      ]
    },
    {
      "cell_type": "markdown",
      "metadata": {
        "id": "tdC596f61_t6"
      },
      "source": [
        "# Operasi Aritmatika"
      ]
    },
    {
      "cell_type": "markdown",
      "metadata": {
        "id": "gJonHsnh2BMV"
      },
      "source": [
        "Kita bisa menggunakan operasi aritmatika seperti penjumlahan, pengurangan, perkalian, pembagian dan perpangkatan\n",
        "\n",
        "Operator yang digunakan adalah +, -, , / dan *\n",
        "\n",
        "Berikut contoh operasi aritmatika pada array"
      ]
    },
    {
      "cell_type": "code",
      "metadata": {
        "id": "JubbUfYz17E_"
      },
      "source": [
        "arr_A = np.array([1,2,3,4,5])\n",
        "arr_B = np.array([2,2,2,2,2])\n",
        "\n",
        "print(\"Penjumlahan = \", arr_A + arr_B)\n",
        "print(\"Pengurangan = \", arr_A - arr_B)\n",
        "print(\"Perkalian = \", arr_A * arr_B)\n",
        "print(\"Pembagian = \", arr_A / arr_B)\n",
        "print(\"Perpangkatan = \", arr_A ** arr_B)"
      ],
      "execution_count": null,
      "outputs": []
    },
    {
      "cell_type": "markdown",
      "metadata": {
        "id": "NO7FOq0D2Hst"
      },
      "source": [
        "# Operasi Matematika"
      ]
    },
    {
      "cell_type": "markdown",
      "metadata": {
        "id": "X1Uf-Nrm2KY1"
      },
      "source": [
        "NumPy mempunyai fungsi matematika yang dapat digunakan pada Array\n",
        "\n",
        "Beberapa contoh fungsi statistik antara lain min(), max(), mean(), sum(), std()"
      ]
    },
    {
      "cell_type": "code",
      "metadata": {
        "id": "Q4QLFcau2OXB"
      },
      "source": [
        "arr_5 = np.array([1,2,3,4,5])\n",
        "print(\"Nilai minimal = \", arr_5.min())\n",
        "print(\"Nilai maksimal = \", arr_5.max())\n",
        "print(\"Nilai rata-rata = \", arr_5.mean())\n",
        "print(\"Total nilai = \", arr_5.sum())\n",
        "print(\"Standar Deviasi = \", arr_5.std())"
      ],
      "execution_count": null,
      "outputs": []
    },
    {
      "cell_type": "markdown",
      "metadata": {
        "id": "SQRNa3U62RVI"
      },
      "source": [
        "Ada juga fungsi `argmin()` dan `argmax()` untuk mendapatkan index dari nilai minimum dan maksimum"
      ]
    },
    {
      "cell_type": "code",
      "metadata": {
        "id": "g-aurI5U2Vrk"
      },
      "source": [
        "print(\"Index nilai niminal = \", arr_5.argmin())\n",
        "print(\"Index nilai maksimal = \", arr_5.argmax())"
      ],
      "execution_count": null,
      "outputs": []
    },
    {
      "cell_type": "markdown",
      "metadata": {
        "id": "P7gy1Ex52YHU"
      },
      "source": [
        "# Transformasi Array"
      ]
    },
    {
      "cell_type": "markdown",
      "metadata": {
        "id": "CfkMDlhd2a8J"
      },
      "source": [
        "Kita dapat membuat array baru dari array yang sudah ada melalui berbagai metode transformasi seperti merubah ukuran, menggabungkan dua array atau lebih dan lain sebagainya."
      ]
    },
    {
      "cell_type": "markdown",
      "metadata": {
        "id": "CvKSVUPc2jAe"
      },
      "source": [
        "**array.reshape**\n",
        "\n",
        "Metode ini digunakan untuk merubah shape array dengan jumlah elemen yang tidak berubah."
      ]
    },
    {
      "cell_type": "code",
      "metadata": {
        "id": "dZd3nWA52dQH"
      },
      "source": [
        "sebelum = np.array([[1,2,3,4],[5,6,7,8]])\n",
        "print(sebelum)\n",
        "\n",
        "sesudah = sebelum.reshape((8,1))\n",
        "print(sesudah)"
      ],
      "execution_count": null,
      "outputs": []
    },
    {
      "cell_type": "markdown",
      "metadata": {
        "id": "NXg3Y5u_2mPl"
      },
      "source": [
        "Perhatikan bahwa array **sebelum** memiliki jumlah elemen 8 (2,4) dan array **sesudah** juga memiliki jumlah elemen 8 (4,2)."
      ]
    },
    {
      "cell_type": "markdown",
      "metadata": {
        "id": "O72lvI7i2xb8"
      },
      "source": [
        "**array.vstack**\n",
        "\n",
        "Metode ini dilakukan untuk menumpuk beberapa array secara vertikal"
      ]
    },
    {
      "cell_type": "code",
      "metadata": {
        "id": "M8Mia0U62rRb"
      },
      "source": [
        "v1 = np.array([1,2,3,4])\n",
        "v2 = np.array([5,6,7,8])\n",
        "\n",
        "np.vstack([v1,v2,v1,v2])"
      ],
      "execution_count": null,
      "outputs": []
    },
    {
      "cell_type": "markdown",
      "metadata": {
        "id": "k0m6cTGA219M"
      },
      "source": [
        "**array.hstack**\n",
        "\n",
        "Metode ini dilakukan untuk menumpuk beberapa array secara horizontal."
      ]
    },
    {
      "cell_type": "code",
      "metadata": {
        "id": "o-qqBCTN25_y"
      },
      "source": [
        "h1 = np.ones((2,4))\n",
        "h2 = np.zeros((2,2))\n",
        "print(h1)\n",
        "print(h2)\n",
        "\n",
        "print(np.hstack((h1,h2)))"
      ],
      "execution_count": null,
      "outputs": []
    },
    {
      "cell_type": "markdown",
      "metadata": {
        "id": "pkjEEWQA28Jz"
      },
      "source": [
        "# Representasi Matriks Pada Python"
      ]
    },
    {
      "cell_type": "markdown",
      "metadata": {
        "id": "kCI5r8an3K2c"
      },
      "source": [
        "Matriks adalah array 2 dimensi khusus yang mempertahankan sifat 2 dimensinnya melalui operasi. Matriks memiliki operator khusus tertentu, seperti perkalian matriks dan pemangkatan matriks."
      ]
    },
    {
      "cell_type": "markdown",
      "metadata": {
        "id": "xkShwrqw3OVH"
      },
      "source": [
        "Berikut adalah beberapa penulisan python di berbagai platform:\n",
        "![image.png](data:image/png;base64,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)"
      ]
    },
    {
      "cell_type": "markdown",
      "metadata": {
        "id": "SgFIAQ1j3fFX"
      },
      "source": [
        "Berikut contoh penulisan matriks pada python:"
      ]
    },
    {
      "cell_type": "code",
      "metadata": {
        "id": "IpxvLMxU3f6g"
      },
      "source": [
        "import numpy as np"
      ],
      "execution_count": null,
      "outputs": []
    },
    {
      "cell_type": "code",
      "metadata": {
        "id": "X2WdgEdS3iKY"
      },
      "source": [
        "A = np.array([[1, 2], [4, 5]])\n",
        "A"
      ],
      "execution_count": null,
      "outputs": []
    },
    {
      "cell_type": "code",
      "metadata": {
        "id": "WyW8Nq5L3klW"
      },
      "source": [
        "B = np.array([[1, 2, 3], [4, 5, 6], [7, 8, 9]])\n",
        "B"
      ],
      "execution_count": null,
      "outputs": []
    },
    {
      "cell_type": "markdown",
      "metadata": {
        "id": "Pot9oAt334K0"
      },
      "source": [
        "# Operasi Matriks Pada Python"
      ]
    },
    {
      "cell_type": "code",
      "metadata": {
        "id": "hn7GGhgE38zh"
      },
      "source": [
        "P = np.array([[1, 2], [4, 5]])\n",
        "P"
      ],
      "execution_count": null,
      "outputs": []
    },
    {
      "cell_type": "code",
      "metadata": {
        "id": "HB9BLRWe3_do"
      },
      "source": [
        "Q = np.array([[7, 8], [9, 10]])\n",
        "Q"
      ],
      "execution_count": null,
      "outputs": []
    },
    {
      "cell_type": "code",
      "metadata": {
        "id": "6X6_C7UD4B1K"
      },
      "source": [
        "a=29\n",
        "a"
      ],
      "execution_count": null,
      "outputs": []
    },
    {
      "cell_type": "markdown",
      "metadata": {
        "id": "s9V6QCfm4D8u"
      },
      "source": [
        "**Penjumlahan Matriks**"
      ]
    },
    {
      "cell_type": "code",
      "metadata": {
        "id": "uDwaOLRM4Itl"
      },
      "source": [
        "np.add(P,Q)"
      ],
      "execution_count": null,
      "outputs": []
    },
    {
      "cell_type": "markdown",
      "metadata": {
        "id": "ClXko41y4Lgb"
      },
      "source": [
        "**Pengurangan Matriks**"
      ]
    },
    {
      "cell_type": "code",
      "metadata": {
        "id": "ShQEBexV4RSp"
      },
      "source": [
        "np.subtract(P,Q)"
      ],
      "execution_count": null,
      "outputs": []
    },
    {
      "cell_type": "markdown",
      "metadata": {
        "id": "5pXXmxGt4TxY"
      },
      "source": [
        "**Perkalian Skalar Matriks**"
      ]
    },
    {
      "cell_type": "code",
      "metadata": {
        "id": "5z9Lksc-4XF5"
      },
      "source": [
        "a*P"
      ],
      "execution_count": null,
      "outputs": []
    },
    {
      "cell_type": "markdown",
      "metadata": {
        "id": "f_yxc9A44Zg1"
      },
      "source": [
        "**Perkalian Matriks**"
      ]
    },
    {
      "cell_type": "code",
      "metadata": {
        "id": "oVJow4lc4dII"
      },
      "source": [
        "np.multiply(P,Q)"
      ],
      "execution_count": null,
      "outputs": []
    },
    {
      "cell_type": "markdown",
      "metadata": {
        "id": "NRbJhjnb4iF5"
      },
      "source": [
        "**Perkalian Titik Matriks (Dot Product)**"
      ]
    },
    {
      "cell_type": "code",
      "metadata": {
        "id": "GeYLZlY34lJF"
      },
      "source": [
        "np.dot(P,Q)"
      ],
      "execution_count": null,
      "outputs": []
    },
    {
      "cell_type": "markdown",
      "metadata": {
        "id": "9hCK51zA4nt2"
      },
      "source": [
        "**Transpose Matriks**"
      ]
    },
    {
      "cell_type": "code",
      "metadata": {
        "id": "IaxUCIGg4rOa"
      },
      "source": [
        "P.T"
      ],
      "execution_count": null,
      "outputs": []
    },
    {
      "cell_type": "markdown",
      "metadata": {
        "id": "hh42S-EW4u8U"
      },
      "source": [
        "**Operasi Fungsi Pada Setiap Elemen Matriks - Akar Kuadrat**"
      ]
    },
    {
      "cell_type": "code",
      "metadata": {
        "id": "Ud7by7Z74ulr"
      },
      "source": [
        "np.sqrt(P)"
      ],
      "execution_count": null,
      "outputs": []
    },
    {
      "cell_type": "markdown",
      "metadata": {
        "id": "6EPh6lWA41Ry"
      },
      "source": [
        "**Menjumlahkan Semua Elemen Kolom Sebuah Matriks**"
      ]
    },
    {
      "cell_type": "code",
      "metadata": {
        "id": "BIPtpAKE46ZP"
      },
      "source": [
        "Q"
      ],
      "execution_count": null,
      "outputs": []
    },
    {
      "cell_type": "code",
      "metadata": {
        "id": "Kym7qP6O49zo"
      },
      "source": [
        "np.sum(Q,axis=1)"
      ],
      "execution_count": null,
      "outputs": []
    },
    {
      "cell_type": "markdown",
      "metadata": {
        "id": "fx1oeEf-4-t5"
      },
      "source": [
        "**Menjumlahkan Semua Elemen Baris Sebuah Matriks**"
      ]
    },
    {
      "cell_type": "code",
      "metadata": {
        "id": "gX5hbb605CoE"
      },
      "source": [
        "np.sum(Q,axis=0)"
      ],
      "execution_count": null,
      "outputs": []
    },
    {
      "cell_type": "markdown",
      "metadata": {
        "id": "UH-oZJMC5FFv"
      },
      "source": [
        "# Aljabar Linear Pada Python"
      ]
    },
    {
      "cell_type": "markdown",
      "metadata": {
        "id": "3Kxa1BcF5KTF"
      },
      "source": [
        "Dalam modul numpy juga disediakan fungsi-fungsi Aljabar Linear untuk matriks.\n",
        "Beberapa konsep Aljabar Linear yang akan ditunjukkan di modul ini adalah\n",
        "* Determinan\n",
        "* Inverse\n",
        "* Nilai eigen\n",
        "* Vector eigen\n",
        "* Matriks identitas\n",
        "* Matriks satuan\n",
        "* Matriks nol\n",
        "* Matriks segitiga L dan U\n",
        "* Dekomposisi L U matriks"
      ]
    },
    {
      "cell_type": "code",
      "metadata": {
        "id": "mQPtp7P95NO1"
      },
      "source": [
        "A = np.array([[2,3,4],[7, 8, 9],[10, 7, 8]])\n",
        "A"
      ],
      "execution_count": null,
      "outputs": []
    },
    {
      "cell_type": "code",
      "metadata": {
        "id": "9eXpijnW5Rsx"
      },
      "source": [
        "B = np.array([[5,7,4],[6, 8, 9],[1, 2, 6]])\n",
        "B"
      ],
      "execution_count": null,
      "outputs": []
    },
    {
      "cell_type": "markdown",
      "metadata": {
        "id": "c3WZZtgh5UGZ"
      },
      "source": [
        "**Determinan**"
      ]
    },
    {
      "cell_type": "code",
      "metadata": {
        "id": "D1i7_Q1v5XIq"
      },
      "source": [
        "np.linalg.det(A)"
      ],
      "execution_count": null,
      "outputs": []
    },
    {
      "cell_type": "markdown",
      "metadata": {
        "id": "WH0AMgjh5dE8"
      },
      "source": [
        "**Inverse Matriks**"
      ]
    },
    {
      "cell_type": "code",
      "metadata": {
        "id": "yhgmE7OU5a45"
      },
      "source": [
        "np.linalg.inv(A)"
      ],
      "execution_count": null,
      "outputs": []
    },
    {
      "cell_type": "markdown",
      "metadata": {
        "id": "kmm3S0bq5hf2"
      },
      "source": [
        "**Nilai Eigen dan Vector Eigen**"
      ]
    },
    {
      "cell_type": "code",
      "metadata": {
        "id": "hqaB8ooW5lWr"
      },
      "source": [
        "eig, vec_eig = np.linalg.eig(A)\n",
        "print('Nilai eigen matriks A:')\n",
        "print(eig)\n",
        "print('Vektor eigen matriks A:')\n",
        "print(vec_eig)"
      ],
      "execution_count": null,
      "outputs": []
    },
    {
      "cell_type": "markdown",
      "metadata": {
        "id": "erzrCftz5omI"
      },
      "source": [
        "**Matriks Identitas**"
      ]
    },
    {
      "cell_type": "code",
      "metadata": {
        "id": "p-5C5e2x5sXV"
      },
      "source": [
        "Identitas=np.identity(5)\n",
        "print(Identitas)"
      ],
      "execution_count": null,
      "outputs": []
    },
    {
      "cell_type": "code",
      "metadata": {
        "id": "2SSdf8LK5wbj"
      },
      "source": [
        "Identitas[:,3]"
      ],
      "execution_count": null,
      "outputs": []
    },
    {
      "cell_type": "markdown",
      "metadata": {
        "id": "gG_E6HwA5yln"
      },
      "source": [
        "**Matriks Satuan**"
      ]
    },
    {
      "cell_type": "code",
      "metadata": {
        "id": "cvaROEeG52CN"
      },
      "source": [
        "Satuan=np.ones((2,3))\n",
        "Satuan"
      ],
      "execution_count": null,
      "outputs": []
    },
    {
      "cell_type": "markdown",
      "metadata": {
        "id": "Z_A2cjsr544h"
      },
      "source": [
        "**Matriks Nol**"
      ]
    },
    {
      "cell_type": "code",
      "metadata": {
        "id": "Ca9mb2yF58HO"
      },
      "source": [
        "MatriksNol=np.zeros(10)\n",
        "MatriksNol"
      ],
      "execution_count": null,
      "outputs": []
    },
    {
      "cell_type": "markdown",
      "metadata": {
        "id": "ziozt0Kh5-jk"
      },
      "source": [
        "**Matriks Segitiga Atas dan Bawah**"
      ]
    },
    {
      "cell_type": "code",
      "metadata": {
        "id": "0mw0pVO26B-R"
      },
      "source": [
        "M=np.array([[1,2,3],[4,5,6],[7,8,9]])\n",
        "M"
      ],
      "execution_count": null,
      "outputs": []
    },
    {
      "cell_type": "code",
      "metadata": {
        "id": "VTU-NjwJ6N_w"
      },
      "source": [
        "Lower=np.tril(M, -1)\n",
        "Lower"
      ],
      "execution_count": null,
      "outputs": []
    },
    {
      "cell_type": "code",
      "metadata": {
        "id": "J3npyTKf6Ou4"
      },
      "source": [
        "Upper=np.triu(M, 1)\n",
        "Upper"
      ],
      "execution_count": null,
      "outputs": []
    },
    {
      "cell_type": "markdown",
      "metadata": {
        "id": "bG2cjfAE6Q8w"
      },
      "source": [
        "**Matriks Dekomposisi LU**"
      ]
    },
    {
      "cell_type": "code",
      "metadata": {
        "id": "VyBD-1bq6asK"
      },
      "source": [
        "import numpy as np\n",
        "import scipy.linalg as la\n",
        "np.set_printoptions(suppress=True)\n",
        "\n",
        "P, L, U = la.lu(A)\n",
        "print(P)\n",
        "\n",
        "print(L)\n",
        "\n",
        "print(U)"
      ],
      "execution_count": null,
      "outputs": []
    },
    {
      "cell_type": "markdown",
      "metadata": {
        "id": "IvAPqTSh6eQm"
      },
      "source": [
        "# Membangun Matriks Menggunakan Perulangan"
      ]
    },
    {
      "cell_type": "code",
      "metadata": {
        "id": "NnqpvAfe6hgG"
      },
      "source": [
        "C = np.arange(0,10,1)\n",
        "C"
      ],
      "execution_count": null,
      "outputs": []
    },
    {
      "cell_type": "code",
      "metadata": {
        "id": "54BwL9u_6iw2"
      },
      "source": [
        "c**2"
      ],
      "execution_count": null,
      "outputs": []
    },
    {
      "cell_type": "code",
      "metadata": {
        "id": "rVLF7Duc6jyo"
      },
      "source": [
        "L = []\n",
        "for i in C:\n",
        "  L.append(i+1)\n",
        "L"
      ],
      "execution_count": null,
      "outputs": []
    },
    {
      "cell_type": "code",
      "metadata": {
        "id": "i39iHscy6myH"
      },
      "source": [
        "A=np.zeros([3,4])\n",
        "baris, kolom = np.shape(A)\n",
        "print(baris)\n",
        "print(kolom)\n",
        "print(A)\n",
        "arr=[]\n",
        "for i in range(baris):\n",
        "    arr.append([])\n",
        "    print(arr)\n",
        "    for j in range(kolom):\n",
        "        arr[i].append((i+j)*2)\n",
        "        print(arr)\n",
        "print(np.array(arr))"
      ],
      "execution_count": null,
      "outputs": []
    },
    {
      "cell_type": "markdown",
      "metadata": {
        "id": "Cik869xy6219"
      },
      "source": [
        "# Latihan\n",
        "\n",
        "1. Buatlah array matriks identitas dengan ukuran 20x20!\n"
      ]
    },
    {
      "cell_type": "code",
      "metadata": {
        "id": "mOnTvRCm6635",
        "colab": {
          "base_uri": "https://localhost:8080/"
        },
        "outputId": "1b864235-2bd5-40da-e66f-87bacd288e28"
      },
      "source": [
        "identitas = np.identity(20)\n",
        "print(identitas)"
      ],
      "execution_count": 2,
      "outputs": [
        {
          "output_type": "stream",
          "name": "stdout",
          "text": [
            "[[1. 0. 0. 0. 0. 0. 0. 0. 0. 0. 0. 0. 0. 0. 0. 0. 0. 0. 0. 0.]\n",
            " [0. 1. 0. 0. 0. 0. 0. 0. 0. 0. 0. 0. 0. 0. 0. 0. 0. 0. 0. 0.]\n",
            " [0. 0. 1. 0. 0. 0. 0. 0. 0. 0. 0. 0. 0. 0. 0. 0. 0. 0. 0. 0.]\n",
            " [0. 0. 0. 1. 0. 0. 0. 0. 0. 0. 0. 0. 0. 0. 0. 0. 0. 0. 0. 0.]\n",
            " [0. 0. 0. 0. 1. 0. 0. 0. 0. 0. 0. 0. 0. 0. 0. 0. 0. 0. 0. 0.]\n",
            " [0. 0. 0. 0. 0. 1. 0. 0. 0. 0. 0. 0. 0. 0. 0. 0. 0. 0. 0. 0.]\n",
            " [0. 0. 0. 0. 0. 0. 1. 0. 0. 0. 0. 0. 0. 0. 0. 0. 0. 0. 0. 0.]\n",
            " [0. 0. 0. 0. 0. 0. 0. 1. 0. 0. 0. 0. 0. 0. 0. 0. 0. 0. 0. 0.]\n",
            " [0. 0. 0. 0. 0. 0. 0. 0. 1. 0. 0. 0. 0. 0. 0. 0. 0. 0. 0. 0.]\n",
            " [0. 0. 0. 0. 0. 0. 0. 0. 0. 1. 0. 0. 0. 0. 0. 0. 0. 0. 0. 0.]\n",
            " [0. 0. 0. 0. 0. 0. 0. 0. 0. 0. 1. 0. 0. 0. 0. 0. 0. 0. 0. 0.]\n",
            " [0. 0. 0. 0. 0. 0. 0. 0. 0. 0. 0. 1. 0. 0. 0. 0. 0. 0. 0. 0.]\n",
            " [0. 0. 0. 0. 0. 0. 0. 0. 0. 0. 0. 0. 1. 0. 0. 0. 0. 0. 0. 0.]\n",
            " [0. 0. 0. 0. 0. 0. 0. 0. 0. 0. 0. 0. 0. 1. 0. 0. 0. 0. 0. 0.]\n",
            " [0. 0. 0. 0. 0. 0. 0. 0. 0. 0. 0. 0. 0. 0. 1. 0. 0. 0. 0. 0.]\n",
            " [0. 0. 0. 0. 0. 0. 0. 0. 0. 0. 0. 0. 0. 0. 0. 1. 0. 0. 0. 0.]\n",
            " [0. 0. 0. 0. 0. 0. 0. 0. 0. 0. 0. 0. 0. 0. 0. 0. 1. 0. 0. 0.]\n",
            " [0. 0. 0. 0. 0. 0. 0. 0. 0. 0. 0. 0. 0. 0. 0. 0. 0. 1. 0. 0.]\n",
            " [0. 0. 0. 0. 0. 0. 0. 0. 0. 0. 0. 0. 0. 0. 0. 0. 0. 0. 1. 0.]\n",
            " [0. 0. 0. 0. 0. 0. 0. 0. 0. 0. 0. 0. 0. 0. 0. 0. 0. 0. 0. 1.]]\n"
          ]
        }
      ]
    },
    {
      "cell_type": "markdown",
      "metadata": {
        "id": "xSzGZfLE951H"
      },
      "source": [
        "2. Buatlah array matriks dengan ukuran sesuai dengan array `c` dan dengan elemennya adalah bilangan 112!\n",
        "\n",
        "  ```python\n",
        "  c=[20, 60, 50, 70, 90, 78, 46, 56]\n",
        "  ```"
      ]
    },
    {
      "cell_type": "code",
      "metadata": {
        "id": "1WYI_iYH97TP",
        "colab": {
          "base_uri": "https://localhost:8080/"
        },
        "outputId": "ef691cd8-b6be-44fc-e2c1-8e00998878af"
      },
      "source": [
        "C = np.array([20, 60, 50, 70, 90, 78, 46, 56])\n",
        "C"
      ],
      "execution_count": 6,
      "outputs": [
        {
          "output_type": "execute_result",
          "data": {
            "text/plain": [
              "array([20, 60, 50, 70, 90, 78, 46, 56])"
            ]
          },
          "metadata": {},
          "execution_count": 6
        }
      ]
    },
    {
      "cell_type": "code",
      "metadata": {
        "colab": {
          "base_uri": "https://localhost:8080/"
        },
        "id": "8H1DyWPEwxzW",
        "outputId": "a2ca121a-108a-4947-8eb5-7e351557ede4"
      },
      "source": [
        "C[C > 10] = 112\n",
        "C"
      ],
      "execution_count": 8,
      "outputs": [
        {
          "output_type": "execute_result",
          "data": {
            "text/plain": [
              "array([112, 112, 112, 112, 112, 112, 112, 112])"
            ]
          },
          "metadata": {},
          "execution_count": 8
        }
      ]
    }
  ]
}