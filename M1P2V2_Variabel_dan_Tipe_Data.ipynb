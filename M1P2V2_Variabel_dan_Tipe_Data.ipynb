{
  "nbformat": 4,
  "nbformat_minor": 0,
  "metadata": {
    "colab": {
      "name": "M1P2V2_Variabel_dan_Tipe_Data.ipynb",
      "provenance": []
    },
    "kernelspec": {
      "name": "python3",
      "display_name": "Python 3"
    },
    "language_info": {
      "name": "python"
    }
  },
  "cells": [
    {
      "cell_type": "markdown",
      "metadata": {
        "id": "1pX3u7r4CfC8"
      },
      "source": [
        "# Variabel & Tipe Data"
      ]
    },
    {
      "cell_type": "markdown",
      "metadata": {
        "id": "kzquUtGdCj3d"
      },
      "source": [
        "# Variabel"
      ]
    },
    {
      "cell_type": "markdown",
      "metadata": {
        "id": "k7_e0hT9Cmyi"
      },
      "source": [
        "**Variabel**: Lokasi penyimpanan yang dapat digunakan untuk menampung sebuah data atau informasi. "
      ]
    },
    {
      "cell_type": "markdown",
      "metadata": {
        "id": "3gCOOSPRDFQK"
      },
      "source": [
        "Syarat-syarat Penamaan Variabel\n",
        "\n",
        "\n",
        "1.   Karakter-karater yang digunakan untuk penamaan variabel adalah alphabet, angka dan underscore\n",
        "1.   Karakter pertama variabel harus berupa huruf atau garis bawah/underscore, dan tidak bisa berupa angka\n",
        "2.   Nama sebuah variabel tidak bisa menggunakan keyword atau reserved word dari bahasa python seperti for, if dan lainnya\n",
        "2.   Karakter pada nama variabel bersifat sensitif (case-sensitif)\n",
        "\n"
      ]
    },
    {
      "cell_type": "code",
      "metadata": {
        "colab": {
          "base_uri": "https://localhost:8080/"
        },
        "id": "X0Thawy2EPtK",
        "outputId": "bd9f073d-91f5-4fe8-d11b-14aaa4194231"
      },
      "source": [
        "#membuat variabel\n",
        "kalimat = 'ini adalah variabel'\n",
        "bilangan1 = 4\n",
        "bilangan2 = 2.5\n",
        "bilangan3 = True\n",
        "bilangan4 = 1j + 4\n",
        "\n",
        "#menampilkan variabel\n",
        "print(kalimat)\n",
        "print(bilangan1)\n",
        "print(bilangan2)"
      ],
      "execution_count": 1,
      "outputs": [
        {
          "output_type": "stream",
          "name": "stdout",
          "text": [
            "ini adalah variabel\n",
            "4\n",
            "2.5\n"
          ]
        }
      ]
    },
    {
      "cell_type": "markdown",
      "metadata": {
        "id": "_a6AsAR-EZYW"
      },
      "source": [
        "# Tipe Data"
      ]
    },
    {
      "cell_type": "markdown",
      "metadata": {
        "id": "vfYPiQ8REfkP"
      },
      "source": [
        "5 tipe data, yaitu :\n",
        "\n",
        "Integer atau bilangan bulat\n",
        "\n",
        "1.   Integer atau bilangan bulat\n",
        "2.   Float atau bilangan desimal\n",
        "1.   String atau kalimat\n",
        "2.   Boolean yang terdiri dari True dan False\n",
        "1.   Complex yang merupakan bilangan kompleks"
      ]
    },
    {
      "cell_type": "code",
      "metadata": {
        "colab": {
          "base_uri": "https://localhost:8080/"
        },
        "id": "M_0kdFWsE427",
        "outputId": "fb512b47-41cf-4507-b818-678ebaccc42e"
      },
      "source": [
        "#menampilkan tipe data\n",
        "print(type(kalimat))\n",
        "print(type(bilangan1))\n",
        "print(type(bilangan2))\n",
        "print(type(bilangan3))\n",
        "print(type(bilangan4))"
      ],
      "execution_count": 2,
      "outputs": [
        {
          "output_type": "stream",
          "name": "stdout",
          "text": [
            "<class 'str'>\n",
            "<class 'int'>\n",
            "<class 'float'>\n",
            "<class 'bool'>\n",
            "<class 'complex'>\n"
          ]
        }
      ]
    },
    {
      "cell_type": "markdown",
      "metadata": {
        "id": "71T-ptQjFD3h"
      },
      "source": [
        "# Konversi Tipe Data"
      ]
    },
    {
      "cell_type": "markdown",
      "metadata": {
        "id": "Uh0sTbBAFFei"
      },
      "source": [
        "Syntax konversi tipe data :\n",
        "\n",
        "1.   Integer = int()\n",
        "1.   Float = float()\n",
        "1.   String = str()\n",
        "2.   Bloolean = bool()\n",
        "2.   Complex = complex()"
      ]
    },
    {
      "cell_type": "code",
      "metadata": {
        "colab": {
          "base_uri": "https://localhost:8080/"
        },
        "id": "DuDr_DzHFgQ1",
        "outputId": "6de720b3-c362-4786-f0df-dc1f66d6466f"
      },
      "source": [
        "#konversi tipe data integer\n",
        "print(int(bilangan2))\n",
        "print(int(bilangan3))"
      ],
      "execution_count": 3,
      "outputs": [
        {
          "output_type": "stream",
          "name": "stdout",
          "text": [
            "2\n",
            "1\n"
          ]
        }
      ]
    },
    {
      "cell_type": "code",
      "metadata": {
        "colab": {
          "base_uri": "https://localhost:8080/"
        },
        "id": "SX6TQfmHFsh1",
        "outputId": "9e9cb38d-b86d-447a-8a4d-15e007646295"
      },
      "source": [
        "#konversi tipe data float\n",
        "print(float(bilangan1))\n",
        "print(float(bilangan3))"
      ],
      "execution_count": 4,
      "outputs": [
        {
          "output_type": "stream",
          "name": "stdout",
          "text": [
            "4.0\n",
            "1.0\n"
          ]
        }
      ]
    },
    {
      "cell_type": "code",
      "metadata": {
        "colab": {
          "base_uri": "https://localhost:8080/"
        },
        "id": "ku7jhEB5FvFh",
        "outputId": "e3ea5241-0d13-43b0-f9d7-2c1f1979f0c2"
      },
      "source": [
        "#konversi tipe data string\n",
        "print(str(bilangan1))\n",
        "print(str(bilangan2))\n",
        "print(str(bilangan3))"
      ],
      "execution_count": 5,
      "outputs": [
        {
          "output_type": "stream",
          "name": "stdout",
          "text": [
            "4\n",
            "2.5\n",
            "True\n"
          ]
        }
      ]
    },
    {
      "cell_type": "code",
      "metadata": {
        "colab": {
          "base_uri": "https://localhost:8080/"
        },
        "id": "I_xWWn6iF6J4",
        "outputId": "52b2f1cc-141b-4d21-e432-414ec5295fc8"
      },
      "source": [
        "#konversi tipe data bool\n",
        "print(bool(bilangan1))\n",
        "print(bool(bilangan2))"
      ],
      "execution_count": 6,
      "outputs": [
        {
          "output_type": "stream",
          "name": "stdout",
          "text": [
            "True\n",
            "True\n"
          ]
        }
      ]
    },
    {
      "cell_type": "code",
      "metadata": {
        "colab": {
          "base_uri": "https://localhost:8080/"
        },
        "id": "3_gLLwf5F88z",
        "outputId": "2e11251f-b245-4af7-9cd7-98d1f3f5dbc1"
      },
      "source": [
        "#konversi tipe data complex\n",
        "print(complex(bilangan1))\n",
        "print(complex(bilangan2))\n",
        "print(complex(bilangan3))"
      ],
      "execution_count": 7,
      "outputs": [
        {
          "output_type": "stream",
          "name": "stdout",
          "text": [
            "(4+0j)\n",
            "(2.5+0j)\n",
            "(1+0j)\n"
          ]
        }
      ]
    }
  ]
}