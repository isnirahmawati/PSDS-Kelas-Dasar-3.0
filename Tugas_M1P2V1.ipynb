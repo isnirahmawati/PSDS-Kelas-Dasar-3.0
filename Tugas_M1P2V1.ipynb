{
  "nbformat": 4,
  "nbformat_minor": 0,
  "metadata": {
    "colab": {
      "name": "Tugas M1P2V1.ipynb",
      "provenance": [],
      "collapsed_sections": []
    },
    "kernelspec": {
      "name": "python3",
      "display_name": "Python 3"
    },
    "language_info": {
      "name": "python"
    }
  },
  "cells": [
    {
      "cell_type": "markdown",
      "metadata": {
        "id": "rhplhju65T2n"
      },
      "source": [
        "Latihan Operator 1"
      ]
    },
    {
      "cell_type": "code",
      "metadata": {
        "colab": {
          "base_uri": "https://localhost:8080/"
        },
        "id": "hgU5Qcwg4W6A",
        "outputId": "dbe4bda8-07d4-4e8f-f325-6ca88c8381c6"
      },
      "source": [
        "#penjumlahan\n",
        "print('penjumlahan')\n",
        "print(3+5)\n",
        "#pengurangan\n",
        "print('pengurangan')\n",
        "print(4-3)\n",
        "#perkalian\n",
        "print('perkalian')\n",
        "print(7*2)\n",
        "#pembagian\n",
        "print('pembagian')\n",
        "print(8/2)\n",
        "#modulus\n",
        "print('modulus')\n",
        "print(5%4)\n",
        "#perpangkatan\n",
        "print('perpangkatan')\n",
        "print(2**3)\n",
        "#pembagian pembulatan floring\n",
        "print('pembagian pembulatan floring')\n",
        "print(5//4)"
      ],
      "execution_count": null,
      "outputs": [
        {
          "output_type": "stream",
          "name": "stdout",
          "text": [
            "penjumlahan\n",
            "8\n",
            "pengurangan\n",
            "1\n",
            "perkalian\n",
            "14\n",
            "pembagian\n",
            "4.0\n",
            "modulus\n",
            "1\n",
            "perpangkatan\n",
            "8\n",
            "pembagian pembulatan floring\n",
            "1\n"
          ]
        }
      ]
    },
    {
      "cell_type": "markdown",
      "metadata": {
        "id": "BDg23gz07M6Y"
      },
      "source": [
        "Latihan Operator 2"
      ]
    },
    {
      "cell_type": "code",
      "metadata": {
        "id": "ziAECA4n73ur",
        "colab": {
          "base_uri": "https://localhost:8080/"
        },
        "outputId": "47dc0698-faae-4672-868d-0a99d7e9c47a"
      },
      "source": [
        "#penjumlahan\n",
        "print('penjumlahan')\n",
        "x=3\n",
        "x=x+3\n",
        "print(x)\n",
        "x+=1\n",
        "print(x)\n",
        "#pengurangan\n",
        "print('pengurangan')\n",
        "x=3\n",
        "x=x-3\n",
        "print(x)\n",
        "x-=1\n",
        "print(x)\n",
        "#perkalian\n",
        "print('perkalian')\n",
        "x=3\n",
        "x=x*3\n",
        "print(x)\n",
        "x*=1\n",
        "print(x)\n",
        "#pembagian\n",
        "print('pembagian')\n",
        "x=3\n",
        "x=x/3\n",
        "print(x)\n",
        "x/=1\n",
        "print(x)\n",
        "#modulus\n",
        "print('modulus')\n",
        "x=3\n",
        "x=x%3\n",
        "print(x)\n",
        "x%=1\n",
        "print(x)\n",
        "#pembagian floring\n",
        "print('pembagian floring')\n",
        "x=3\n",
        "x=x//3\n",
        "print(x)\n",
        "x//=1\n",
        "print(x)\n",
        "#perpangkatan\n",
        "print('perpangkatan')\n",
        "x=3\n",
        "x=x**3\n",
        "print(x)\n",
        "x**=1\n",
        "print(x)"
      ],
      "execution_count": null,
      "outputs": [
        {
          "output_type": "stream",
          "name": "stdout",
          "text": [
            "penjumlahan\n",
            "6\n",
            "7\n",
            "pengurangan\n",
            "0\n",
            "-1\n",
            "perkalian\n",
            "9\n",
            "9\n",
            "pembagian\n",
            "1.0\n",
            "1.0\n",
            "modulus\n",
            "0\n",
            "0\n",
            "pembagian floring\n",
            "1\n",
            "1\n",
            "perpangkatan\n",
            "27\n",
            "27\n"
          ]
        }
      ]
    },
    {
      "cell_type": "markdown",
      "metadata": {
        "id": "jcTskuCHngw7"
      },
      "source": [
        "Latihan Operator 3"
      ]
    },
    {
      "cell_type": "code",
      "metadata": {
        "colab": {
          "base_uri": "https://localhost:8080/"
        },
        "id": "_WEPZwZMnjDr",
        "outputId": "7de3edcd-5a8e-40db-c37d-c58a93929d6b"
      },
      "source": [
        "print(7==7)\n",
        "print(7!=7)\n",
        "print(7>7)\n",
        "print(7<7)\n",
        "print(7>=7)\n",
        "print(7<=7)"
      ],
      "execution_count": null,
      "outputs": [
        {
          "output_type": "stream",
          "name": "stdout",
          "text": [
            "True\n",
            "False\n",
            "False\n",
            "False\n",
            "True\n",
            "True\n"
          ]
        }
      ]
    },
    {
      "cell_type": "markdown",
      "metadata": {
        "id": "p9j_hkY-oXr3"
      },
      "source": [
        "Latihan Operator 4"
      ]
    },
    {
      "cell_type": "code",
      "metadata": {
        "colab": {
          "base_uri": "https://localhost:8080/"
        },
        "id": "D9oQZbZxocFW",
        "outputId": "0758a0ec-4fa2-4188-b9a0-bfce787325f4"
      },
      "source": [
        "print(True and False)\n",
        "print(True or False)\n",
        "print(not False and True)"
      ],
      "execution_count": null,
      "outputs": [
        {
          "output_type": "stream",
          "name": "stdout",
          "text": [
            "False\n",
            "True\n",
            "True\n"
          ]
        }
      ]
    },
    {
      "cell_type": "markdown",
      "metadata": {
        "id": "URLXXc8Gwp7Q"
      },
      "source": [
        "Latihan Operator 5"
      ]
    },
    {
      "cell_type": "code",
      "metadata": {
        "colab": {
          "base_uri": "https://localhost:8080/"
        },
        "id": "HJbCdylid4OM",
        "outputId": "4baa0a84-2b83-4192-bb98-9e029c6a1bc1"
      },
      "source": [
        "K = (1,3,5,7,9)\n",
        "X = 5\n",
        "print(X in K)\n",
        "\n",
        "print('-'*20)\n",
        "K = (1,3,5,7,9)\n",
        "X = 9\n",
        "print(X not in K)"
      ],
      "execution_count": 2,
      "outputs": [
        {
          "output_type": "stream",
          "name": "stdout",
          "text": [
            "True\n",
            "--------------------\n",
            "False\n"
          ]
        }
      ]
    }
  ]
}