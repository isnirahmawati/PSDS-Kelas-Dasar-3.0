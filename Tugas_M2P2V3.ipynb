{
  "nbformat": 4,
  "nbformat_minor": 0,
  "metadata": {
    "colab": {
      "name": "Tugas M2P2V3.ipynb",
      "provenance": []
    },
    "kernelspec": {
      "name": "python3",
      "display_name": "Python 3"
    },
    "language_info": {
      "name": "python"
    }
  },
  "cells": [
    {
      "cell_type": "markdown",
      "metadata": {
        "id": "TNK6fzd0D6Wv"
      },
      "source": [
        "Latihan"
      ]
    },
    {
      "cell_type": "code",
      "metadata": {
        "colab": {
          "base_uri": "https://localhost:8080/"
        },
        "id": "koKx-AX2DujM",
        "outputId": "65e91924-89d3-4e11-d9ae-f84e234abfa6"
      },
      "source": [
        "#data 2 list\n",
        "L1 = [1, 3, 5, 7]\n",
        "L2 = [2, 4, 6, 8]\n",
        "#mengkonversi\n",
        "k_tuple = tuple(L1)\n",
        "k_set = set(L2)\n",
        "k_dict = dict(zip(L1, L2))\n",
        "#melihat data yang telah dikonversi\n",
        "print(k_tuple)\n",
        "print(k_set)\n",
        "print(k_dict)"
      ],
      "execution_count": 1,
      "outputs": [
        {
          "output_type": "stream",
          "name": "stdout",
          "text": [
            "(1, 3, 5, 7)\n",
            "{8, 2, 4, 6}\n",
            "{1: 2, 3: 4, 5: 6, 7: 8}\n"
          ]
        }
      ]
    },
    {
      "cell_type": "code",
      "metadata": {
        "colab": {
          "base_uri": "https://localhost:8080/"
        },
        "id": "HgILJrjOE-Ac",
        "outputId": "5cd2b067-5689-4ffa-d3b9-0b5d66fe231d"
      },
      "source": [
        "#data 2 tuple\n",
        "T1 = (1, 3, 5, 7)\n",
        "T2 = (2, 4, 6, 8)\n",
        "#mengkonversi\n",
        "k_list = list(T1)\n",
        "k_set = set(T2)\n",
        "k_dict = dict(zip(T1, T2))\n",
        "#melihat data yang telah dikonversi\n",
        "print(k_list)\n",
        "print(k_set)\n",
        "print(k_dict)"
      ],
      "execution_count": 2,
      "outputs": [
        {
          "output_type": "stream",
          "name": "stdout",
          "text": [
            "[1, 3, 5, 7]\n",
            "{8, 2, 4, 6}\n",
            "{1: 2, 3: 4, 5: 6, 7: 8}\n"
          ]
        }
      ]
    },
    {
      "cell_type": "code",
      "metadata": {
        "colab": {
          "base_uri": "https://localhost:8080/"
        },
        "id": "baMft8mrFdBq",
        "outputId": "f89fd379-f908-4026-89c7-f0f708f13c83"
      },
      "source": [
        "#data 2 set\n",
        "S1 = {1, 3, 5, 7}\n",
        "S2 = {2, 4, 6, 8}\n",
        "#mengkonversi\n",
        "k_list = list(S1)\n",
        "k_tuple = tuple(S2)\n",
        "k_dict = dict(zip(S1, S2))\n",
        "#melihat data yang telah dikonversi\n",
        "print(k_list)\n",
        "print(k_tuple)\n",
        "print(k_dict)"
      ],
      "execution_count": 4,
      "outputs": [
        {
          "output_type": "stream",
          "name": "stdout",
          "text": [
            "[1, 3, 5, 7]\n",
            "(8, 2, 4, 6)\n",
            "{1: 8, 3: 2, 5: 4, 7: 6}\n"
          ]
        }
      ]
    },
    {
      "cell_type": "code",
      "metadata": {
        "colab": {
          "base_uri": "https://localhost:8080/"
        },
        "id": "bw-O4WgjGy0U",
        "outputId": "b391c357-ab99-45e7-e47a-de280f0a46a1"
      },
      "source": [
        "#data dictionary\n",
        "D = {\n",
        "  \"nama\": \"Budi\", \n",
        "  \"alamat\": \"Malang\", \n",
        "  \"umur\": 17\n",
        "}\n",
        "#mengkonversi\n",
        "k_list = list(D.keys())\n",
        "k_tuple = tuple(D.values())\n",
        "k_set = set(D.keys())\n",
        "#melihat data yang telah dikonversi\n",
        "print(k_list)\n",
        "print(k_tuple)\n",
        "print(k_set)"
      ],
      "execution_count": 6,
      "outputs": [
        {
          "output_type": "stream",
          "name": "stdout",
          "text": [
            "['nama', 'alamat', 'umur']\n",
            "('Budi', 'Malang', 17)\n",
            "{'nama', 'alamat', 'umur'}\n"
          ]
        }
      ]
    }
  ]
}