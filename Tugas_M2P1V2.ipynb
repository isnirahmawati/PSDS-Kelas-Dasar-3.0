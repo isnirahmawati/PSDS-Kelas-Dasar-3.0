{
  "nbformat": 4,
  "nbformat_minor": 0,
  "metadata": {
    "colab": {
      "name": "Tugas M2P1V2.ipynb",
      "provenance": []
    },
    "kernelspec": {
      "name": "python3",
      "display_name": "Python 3"
    },
    "language_info": {
      "name": "python"
    }
  },
  "cells": [
    {
      "cell_type": "markdown",
      "metadata": {
        "id": "qbwvFMdfogqR"
      },
      "source": [
        "Latihan 1"
      ]
    },
    {
      "cell_type": "code",
      "metadata": {
        "colab": {
          "base_uri": "https://localhost:8080/"
        },
        "id": "VjjdrBUBoeEL",
        "outputId": "67637f2e-d796-4653-903a-e304bf248b30"
      },
      "source": [
        "L1 = [1,3,5,7,9]\n",
        "print(type(L1))"
      ],
      "execution_count": 1,
      "outputs": [
        {
          "output_type": "stream",
          "name": "stdout",
          "text": [
            "<class 'list'>\n"
          ]
        }
      ]
    },
    {
      "cell_type": "code",
      "metadata": {
        "colab": {
          "base_uri": "https://localhost:8080/"
        },
        "id": "i-GV9Lu5pBLM",
        "outputId": "b31909ad-12eb-44d0-8743-bdfb63057977"
      },
      "source": [
        "L2 = [\"x\", \"Mahasiswa\", 7]\n",
        "L2"
      ],
      "execution_count": 2,
      "outputs": [
        {
          "output_type": "execute_result",
          "data": {
            "text/plain": [
              "['x', 'Mahasiswa', 7]"
            ]
          },
          "metadata": {},
          "execution_count": 2
        }
      ]
    },
    {
      "cell_type": "code",
      "metadata": {
        "colab": {
          "base_uri": "https://localhost:8080/"
        },
        "id": "MIFVLY25pMQh",
        "outputId": "efba79f0-0ed6-488a-cfff-7e8c8b636075"
      },
      "source": [
        "print(L1)\n",
        "print('-'*21)\n",
        "print(L2)"
      ],
      "execution_count": 5,
      "outputs": [
        {
          "output_type": "stream",
          "name": "stdout",
          "text": [
            "[1, 3, 5, 7, 9]\n",
            "---------------------\n",
            "['x', 'Mahasiswa', 7]\n"
          ]
        }
      ]
    },
    {
      "cell_type": "markdown",
      "metadata": {
        "id": "vO5HTW6Jpbdg"
      },
      "source": [
        "Latihan 2"
      ]
    },
    {
      "cell_type": "code",
      "metadata": {
        "colab": {
          "base_uri": "https://localhost:8080/"
        },
        "id": "42w102e3pdGr",
        "outputId": "76b3ccea-8287-4738-843b-5659fd8a303f"
      },
      "source": [
        "#mengganti elemen \n",
        "L1[0] = 0\n",
        "L1[1] = 2\n",
        "L1[2] = 4\n",
        "L1[3] = 6\n",
        "L1[4] = 8\n",
        "print(L1)"
      ],
      "execution_count": 7,
      "outputs": [
        {
          "output_type": "stream",
          "name": "stdout",
          "text": [
            "[0, 2, 4, 6, 8]\n"
          ]
        }
      ]
    }
  ]
}