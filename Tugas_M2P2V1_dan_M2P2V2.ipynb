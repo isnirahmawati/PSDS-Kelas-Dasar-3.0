{
  "nbformat": 4,
  "nbformat_minor": 0,
  "metadata": {
    "colab": {
      "name": "Tugas M2P2V1 dan M2P2V2.ipynb",
      "provenance": []
    },
    "kernelspec": {
      "name": "python3",
      "display_name": "Python 3"
    },
    "language_info": {
      "name": "python"
    }
  },
  "cells": [
    {
      "cell_type": "markdown",
      "metadata": {
        "id": "CFuZFzVrB2Ed"
      },
      "source": [
        "Latihan M2P2V1"
      ]
    },
    {
      "cell_type": "code",
      "metadata": {
        "colab": {
          "base_uri": "https://localhost:8080/"
        },
        "id": "CcWyrqyTBojG",
        "outputId": "89ad4364-eefd-43e9-83cb-f2463c56da7b"
      },
      "source": [
        "Set1 = {5, \"tujuh\", False, 4+8j}\n",
        "\n",
        "print(type(Set1))"
      ],
      "execution_count": 1,
      "outputs": [
        {
          "output_type": "stream",
          "name": "stdout",
          "text": [
            "<class 'set'>\n"
          ]
        }
      ]
    },
    {
      "cell_type": "markdown",
      "metadata": {
        "id": "u4cgWAtaCRU_"
      },
      "source": [
        "Latihan 1 M2P2V2"
      ]
    },
    {
      "cell_type": "code",
      "metadata": {
        "colab": {
          "base_uri": "https://localhost:8080/"
        },
        "id": "9ksETPy-CT2F",
        "outputId": "b4957790-e293-4354-d68c-e5b50f92fa74"
      },
      "source": [
        "Dict1 = {9:'values','key':3}\n",
        "print(Dict1)"
      ],
      "execution_count": 4,
      "outputs": [
        {
          "output_type": "stream",
          "name": "stdout",
          "text": [
            "{9: 'values', 'key': 3}\n"
          ]
        }
      ]
    },
    {
      "cell_type": "markdown",
      "metadata": {
        "id": "aeP5uPsMDz7M"
      },
      "source": [
        "Latihan 2"
      ]
    },
    {
      "cell_type": "code",
      "metadata": {
        "colab": {
          "base_uri": "https://localhost:8080/"
        },
        "id": "B3S06P-9C5SP",
        "outputId": "bb347860-4f39-4e2c-da88-a778ca4f2ced"
      },
      "source": [
        "Dict1['key']"
      ],
      "execution_count": 6,
      "outputs": [
        {
          "output_type": "execute_result",
          "data": {
            "text/plain": [
              "3"
            ]
          },
          "metadata": {},
          "execution_count": 6
        }
      ]
    },
    {
      "cell_type": "code",
      "metadata": {
        "colab": {
          "base_uri": "https://localhost:8080/"
        },
        "id": "ur7rYuvmDI4k",
        "outputId": "8494f7a1-7e5d-4eb5-9ef7-cd51b1041b04"
      },
      "source": [
        "print(\"Dict1['key'] = \", Dict1['key']);"
      ],
      "execution_count": 8,
      "outputs": [
        {
          "output_type": "stream",
          "name": "stdout",
          "text": [
            "Dict1['key'] =  3\n"
          ]
        }
      ]
    }
  ]
}