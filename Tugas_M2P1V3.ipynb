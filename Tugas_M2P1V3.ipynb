{
  "nbformat": 4,
  "nbformat_minor": 0,
  "metadata": {
    "colab": {
      "name": "Tugas M2P1V3.ipynb",
      "provenance": [],
      "collapsed_sections": []
    },
    "kernelspec": {
      "name": "python3",
      "display_name": "Python 3"
    },
    "language_info": {
      "name": "python"
    }
  },
  "cells": [
    {
      "cell_type": "markdown",
      "metadata": {
        "id": "JAWVGLkKq6XU"
      },
      "source": [
        "Latihan 1"
      ]
    },
    {
      "cell_type": "code",
      "metadata": {
        "id": "A21DJQ-_q0x0",
        "colab": {
          "base_uri": "https://localhost:8080/"
        },
        "outputId": "56bea218-4cba-4002-c1f6-f04f7acca264"
      },
      "source": [
        "Tuple1 = (9, \"lima\", False, 2+4j)\n",
        "print(\"Tuplenya adalah\", Tuple1 )"
      ],
      "execution_count": 1,
      "outputs": [
        {
          "output_type": "stream",
          "name": "stdout",
          "text": [
            "Tuplenya adalah (9, 'lima', False, (2+4j))\n"
          ]
        }
      ]
    },
    {
      "cell_type": "code",
      "metadata": {
        "id": "9ftzWi1FrhVq",
        "colab": {
          "base_uri": "https://localhost:8080/"
        },
        "outputId": "58f4c270-565f-4bfa-914a-6c6a95f53356"
      },
      "source": [
        "type(Tuple1)"
      ],
      "execution_count": 2,
      "outputs": [
        {
          "output_type": "execute_result",
          "data": {
            "text/plain": [
              "tuple"
            ]
          },
          "metadata": {},
          "execution_count": 2
        }
      ]
    },
    {
      "cell_type": "markdown",
      "metadata": {
        "id": "FWGrXmLcrsaL"
      },
      "source": [
        "Latihan 2"
      ]
    },
    {
      "cell_type": "code",
      "metadata": {
        "id": "8g2g3bnRrtsj",
        "colab": {
          "base_uri": "https://localhost:8080/"
        },
        "outputId": "953b41c0-d165-4fd4-cbd8-f7f16927097d"
      },
      "source": [
        "Tuple2 = (True, 7, 3.5, 2.4)\n",
        "Tuple2"
      ],
      "execution_count": 3,
      "outputs": [
        {
          "output_type": "execute_result",
          "data": {
            "text/plain": [
              "(True, 7, 3.5, 2.4)"
            ]
          },
          "metadata": {},
          "execution_count": 3
        }
      ]
    },
    {
      "cell_type": "code",
      "metadata": {
        "id": "a03Yj-btr5AT",
        "colab": {
          "base_uri": "https://localhost:8080/"
        },
        "outputId": "28b0d85f-b1fc-4965-f951-ce4d8ea345ef"
      },
      "source": [
        "Tuple3 = Tuple1 + Tuple2\n",
        "Tuple3"
      ],
      "execution_count": 4,
      "outputs": [
        {
          "output_type": "execute_result",
          "data": {
            "text/plain": [
              "(9, 'lima', False, (2+4j), True, 7, 3.5, 2.4)"
            ]
          },
          "metadata": {},
          "execution_count": 4
        }
      ]
    }
  ]
}